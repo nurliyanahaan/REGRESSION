{
  "cells": [
    {
      "attachments": {},
      "cell_type": "markdown",
      "metadata": {},
      "source": [
        "# `Prediction of Plant Nutrition`"
      ]
    },
    {
      "attachments": {},
      "cell_type": "markdown",
      "metadata": {},
      "source": [
        "Regression is a statistical method used in finance, investing, and other disciplines that attempts to determine the strength and character of the relationship between one dependent variable as independent variables. Regression is used for To forecast a variable based on its relationship with another variable. In this cases, I used 4 different Regression model to get which one has the better result. The model was Linear regression, Decision Tree Regressor, Random Forest Regressor and Support Vector Regression. The target that we want to predict is plant nutritional data that has been obtained from the test lab. "
      ]
    },
    {
      "attachments": {},
      "cell_type": "markdown",
      "metadata": {},
      "source": [
        "# Introduction"
      ]
    },
    {
      "attachments": {},
      "cell_type": "markdown",
      "metadata": {},
      "source": [
        "`Name : Aan Nurliyanah`\n",
        "\n",
        "Hello, I'm Aan. I graduated from Hacktiv8 Data Science Bootcamp Batch 002 in December 2022. I have been a huge enthusiast yet been exploring the fields of Data Science and now seeking for new opportunities to challenge the confidence in my ability to perform as a Data Scientist due to my dedication and extensive education. During my studying period, I mastered the skills while still being eager to learn more.I believe my personality has also played a major role in my ability to succeed in this career. I am an extremely analytical, data-oriented, and calculated."
      ]
    },
    {
      "attachments": {},
      "cell_type": "markdown",
      "metadata": {},
      "source": [
        "# External Link "
      ]
    },
    {
      "attachments": {},
      "cell_type": "markdown",
      "metadata": {},
      "source": [
        "You can visit the deployment of the project via streamlit.app through this link:\n",
        "\n",
        "\n",
        "https://nurliyanahaan-regression-app-bdkolm.streamlit.app/\n"
      ]
    },
    {
      "attachments": {},
      "cell_type": "markdown",
      "metadata": {},
      "source": [
        "# Working Area"
      ]
    },
    {
      "cell_type": "markdown",
      "metadata": {
        "id": "bHvnP4xiDRru"
      },
      "source": [
        "## Import Libraries"
      ]
    },
    {
      "cell_type": "code",
      "execution_count": 68,
      "metadata": {
        "colab": {
          "base_uri": "https://localhost:8080/"
        },
        "id": "m6axxtrqN_G1",
        "outputId": "8b826a7b-09c7-47cd-bfbc-5bac603483e7"
      },
      "outputs": [
        {
          "name": "stdout",
          "output_type": "stream",
          "text": [
            "Requirement already satisfied: feature-engine in c:\\users\\lenovo\\anaconda3\\lib\\site-packages (1.5.2)\n",
            "Requirement already satisfied: numpy>=1.18.2 in c:\\users\\lenovo\\anaconda3\\lib\\site-packages (from feature-engine) (1.23.5)\n",
            "Requirement already satisfied: scikit-learn>=1.0.0 in c:\\users\\lenovo\\anaconda3\\lib\\site-packages (from feature-engine) (1.2.0)\n",
            "Requirement already satisfied: pandas>=1.0.3 in c:\\users\\lenovo\\anaconda3\\lib\\site-packages (from feature-engine) (1.4.4)\n",
            "Requirement already satisfied: scipy>=1.4.1 in c:\\users\\lenovo\\anaconda3\\lib\\site-packages (from feature-engine) (1.9.3)\n",
            "Requirement already satisfied: statsmodels>=0.11.1 in c:\\users\\lenovo\\anaconda3\\lib\\site-packages (from feature-engine) (0.13.2)\n",
            "Requirement already satisfied: pytz>=2020.1 in c:\\users\\lenovo\\anaconda3\\lib\\site-packages (from pandas>=1.0.3->feature-engine) (2022.7)\n",
            "Requirement already satisfied: python-dateutil>=2.8.1 in c:\\users\\lenovo\\anaconda3\\lib\\site-packages (from pandas>=1.0.3->feature-engine) (2.8.2)\n",
            "Requirement already satisfied: joblib>=1.1.1 in c:\\users\\lenovo\\anaconda3\\lib\\site-packages (from scikit-learn>=1.0.0->feature-engine) (1.1.1)\n",
            "Requirement already satisfied: threadpoolctl>=2.0.0 in c:\\users\\lenovo\\anaconda3\\lib\\site-packages (from scikit-learn>=1.0.0->feature-engine) (2.2.0)\n",
            "Requirement already satisfied: patsy>=0.5.2 in c:\\users\\lenovo\\anaconda3\\lib\\site-packages (from statsmodels>=0.11.1->feature-engine) (0.5.2)\n",
            "Requirement already satisfied: packaging>=21.3 in c:\\users\\lenovo\\anaconda3\\lib\\site-packages (from statsmodels>=0.11.1->feature-engine) (22.0)\n",
            "Requirement already satisfied: six in c:\\users\\lenovo\\anaconda3\\lib\\site-packages (from patsy>=0.5.2->statsmodels>=0.11.1->feature-engine) (1.16.0)\n"
          ]
        }
      ],
      "source": [
        "#  using for calculation\n",
        "import numpy as np\n",
        "import pandas as pd\n",
        "\n",
        "# using for visualization\n",
        "import matplotlib.pyplot as plt \n",
        "import seaborn as sns\n",
        "\n",
        "# using for spliting data\n",
        "from sklearn.model_selection import train_test_split\n",
        "\n",
        "!pip install feature-engine\n",
        "# using for preprocessing data, feature selection, scaler, encoder\n",
        "from feature_engine.outliers import Winsorizer\n",
        "from sklearn.preprocessing import MinMaxScaler, OrdinalEncoder \n",
        "from sklearn.feature_selection import SelectKBest\n",
        "from sklearn.feature_selection import f_classif\n",
        "\n",
        "\n",
        "# using for display pipeline\n",
        "from sklearn import set_config\n",
        "set_config(display='diagram')\n",
        "\n",
        "\n",
        "# using for pipeline \n",
        "from sklearn.pipeline import Pipeline\n",
        "from sklearn.compose import ColumnTransformer\n",
        "\n",
        "# using for modeling\n",
        "from sklearn.linear_model import LinearRegression\n",
        "from sklearn.tree import DecisionTreeRegressor\n",
        "from sklearn.ensemble import RandomForestRegressor\n",
        "from sklearn.svm import SVR\n",
        "\n",
        "# using for model evaluation  \n",
        "from sklearn.metrics import mean_squared_error,mean_absolute_error, r2_score,mean_absolute_percentage_error\n",
        "from sklearn.model_selection import cross_val_score\n",
        "from sklearn.model_selection import GridSearchCV\n",
        "\n",
        "# using for import model \n",
        "import pickle \n",
        "\n",
        "import random\n",
        "import warnings\n",
        "warnings.filterwarnings('ignore')\n"
      ]
    },
    {
      "attachments": {},
      "cell_type": "markdown",
      "metadata": {},
      "source": [
        "## Data Loading and Overview"
      ]
    },
    {
      "attachments": {},
      "cell_type": "markdown",
      "metadata": {},
      "source": [
        "Data details :\n",
        "\n",
        "- **target** : contained information to predict plant nutrition\n",
        "- **V1 - V8** : contained information about variable to predict plant nutrition\n",
        "- **sample_type** : contained information about 2 different labs sample obtained"
      ]
    },
    {
      "cell_type": "code",
      "execution_count": 3,
      "metadata": {
        "colab": {
          "base_uri": "https://localhost:8080/",
          "height": 423
        },
        "id": "x6J2bsToNIkG",
        "outputId": "9f808458-de9c-4666-a2cf-3af8d511b762"
      },
      "outputs": [
        {
          "data": {
            "text/html": [
              "<div>\n",
              "<style scoped>\n",
              "    .dataframe tbody tr th:only-of-type {\n",
              "        vertical-align: middle;\n",
              "    }\n",
              "\n",
              "    .dataframe tbody tr th {\n",
              "        vertical-align: top;\n",
              "    }\n",
              "\n",
              "    .dataframe thead th {\n",
              "        text-align: right;\n",
              "    }\n",
              "</style>\n",
              "<table border=\"1\" class=\"dataframe\">\n",
              "  <thead>\n",
              "    <tr style=\"text-align: right;\">\n",
              "      <th></th>\n",
              "      <th>target</th>\n",
              "      <th>v1</th>\n",
              "      <th>v2</th>\n",
              "      <th>v3</th>\n",
              "      <th>v4</th>\n",
              "      <th>v5</th>\n",
              "      <th>v6</th>\n",
              "      <th>v7</th>\n",
              "      <th>v8</th>\n",
              "      <th>sample_type</th>\n",
              "    </tr>\n",
              "  </thead>\n",
              "  <tbody>\n",
              "    <tr>\n",
              "      <th>0</th>\n",
              "      <td>4.63</td>\n",
              "      <td>260.600000</td>\n",
              "      <td>199.000000</td>\n",
              "      <td>391.333333</td>\n",
              "      <td>371.733333</td>\n",
              "      <td>466.800000</td>\n",
              "      <td>273.133333</td>\n",
              "      <td>742.066667</td>\n",
              "      <td>4047.733333</td>\n",
              "      <td>lab 1</td>\n",
              "    </tr>\n",
              "    <tr>\n",
              "      <th>1</th>\n",
              "      <td>5.00</td>\n",
              "      <td>263.200000</td>\n",
              "      <td>194.600000</td>\n",
              "      <td>393.666667</td>\n",
              "      <td>348.533333</td>\n",
              "      <td>401.800000</td>\n",
              "      <td>220.066667</td>\n",
              "      <td>712.000000</td>\n",
              "      <td>4673.466667</td>\n",
              "      <td>lab 1</td>\n",
              "    </tr>\n",
              "    <tr>\n",
              "      <th>2</th>\n",
              "      <td>4.91</td>\n",
              "      <td>247.266667</td>\n",
              "      <td>205.800000</td>\n",
              "      <td>375.466667</td>\n",
              "      <td>354.866667</td>\n",
              "      <td>419.000000</td>\n",
              "      <td>222.133333</td>\n",
              "      <td>677.200000</td>\n",
              "      <td>4386.800000</td>\n",
              "      <td>lab 1</td>\n",
              "    </tr>\n",
              "    <tr>\n",
              "      <th>3</th>\n",
              "      <td>4.77</td>\n",
              "      <td>257.944444</td>\n",
              "      <td>191.833333</td>\n",
              "      <td>368.722222</td>\n",
              "      <td>334.666667</td>\n",
              "      <td>417.222222</td>\n",
              "      <td>195.944444</td>\n",
              "      <td>678.555556</td>\n",
              "      <td>4588.777778</td>\n",
              "      <td>lab 1</td>\n",
              "    </tr>\n",
              "    <tr>\n",
              "      <th>4</th>\n",
              "      <td>4.89</td>\n",
              "      <td>258.200000</td>\n",
              "      <td>195.733333</td>\n",
              "      <td>356.666667</td>\n",
              "      <td>333.333333</td>\n",
              "      <td>394.600000</td>\n",
              "      <td>196.000000</td>\n",
              "      <td>677.133333</td>\n",
              "      <td>4867.066667</td>\n",
              "      <td>lab 1</td>\n",
              "    </tr>\n",
              "    <tr>\n",
              "      <th>...</th>\n",
              "      <td>...</td>\n",
              "      <td>...</td>\n",
              "      <td>...</td>\n",
              "      <td>...</td>\n",
              "      <td>...</td>\n",
              "      <td>...</td>\n",
              "      <td>...</td>\n",
              "      <td>...</td>\n",
              "      <td>...</td>\n",
              "      <td>...</td>\n",
              "    </tr>\n",
              "    <tr>\n",
              "      <th>155</th>\n",
              "      <td>4.83</td>\n",
              "      <td>573.250000</td>\n",
              "      <td>361.250000</td>\n",
              "      <td>643.125000</td>\n",
              "      <td>489.812500</td>\n",
              "      <td>666.875000</td>\n",
              "      <td>355.250000</td>\n",
              "      <td>712.312500</td>\n",
              "      <td>3943.687500</td>\n",
              "      <td>lab 2</td>\n",
              "    </tr>\n",
              "    <tr>\n",
              "      <th>156</th>\n",
              "      <td>4.47</td>\n",
              "      <td>678.375000</td>\n",
              "      <td>398.125000</td>\n",
              "      <td>678.250000</td>\n",
              "      <td>541.125000</td>\n",
              "      <td>704.000000</td>\n",
              "      <td>393.500000</td>\n",
              "      <td>788.812500</td>\n",
              "      <td>3928.187500</td>\n",
              "      <td>lab 2</td>\n",
              "    </tr>\n",
              "    <tr>\n",
              "      <th>157</th>\n",
              "      <td>4.63</td>\n",
              "      <td>634.000000</td>\n",
              "      <td>382.866667</td>\n",
              "      <td>657.466667</td>\n",
              "      <td>505.066667</td>\n",
              "      <td>719.200000</td>\n",
              "      <td>366.600000</td>\n",
              "      <td>792.133333</td>\n",
              "      <td>3861.200000</td>\n",
              "      <td>lab 2</td>\n",
              "    </tr>\n",
              "    <tr>\n",
              "      <th>158</th>\n",
              "      <td>4.35</td>\n",
              "      <td>615.312500</td>\n",
              "      <td>366.750000</td>\n",
              "      <td>642.937500</td>\n",
              "      <td>483.687500</td>\n",
              "      <td>675.625000</td>\n",
              "      <td>359.062500</td>\n",
              "      <td>730.125000</td>\n",
              "      <td>3859.062500</td>\n",
              "      <td>lab 2</td>\n",
              "    </tr>\n",
              "    <tr>\n",
              "      <th>159</th>\n",
              "      <td>4.43</td>\n",
              "      <td>575.200000</td>\n",
              "      <td>350.266667</td>\n",
              "      <td>648.333333</td>\n",
              "      <td>495.400000</td>\n",
              "      <td>679.800000</td>\n",
              "      <td>346.266667</td>\n",
              "      <td>718.733333</td>\n",
              "      <td>3903.333333</td>\n",
              "      <td>lab 2</td>\n",
              "    </tr>\n",
              "  </tbody>\n",
              "</table>\n",
              "<p>160 rows × 10 columns</p>\n",
              "</div>"
            ],
            "text/plain": [
              "     target          v1          v2          v3          v4          v5  \\\n",
              "0      4.63  260.600000  199.000000  391.333333  371.733333  466.800000   \n",
              "1      5.00  263.200000  194.600000  393.666667  348.533333  401.800000   \n",
              "2      4.91  247.266667  205.800000  375.466667  354.866667  419.000000   \n",
              "3      4.77  257.944444  191.833333  368.722222  334.666667  417.222222   \n",
              "4      4.89  258.200000  195.733333  356.666667  333.333333  394.600000   \n",
              "..      ...         ...         ...         ...         ...         ...   \n",
              "155    4.83  573.250000  361.250000  643.125000  489.812500  666.875000   \n",
              "156    4.47  678.375000  398.125000  678.250000  541.125000  704.000000   \n",
              "157    4.63  634.000000  382.866667  657.466667  505.066667  719.200000   \n",
              "158    4.35  615.312500  366.750000  642.937500  483.687500  675.625000   \n",
              "159    4.43  575.200000  350.266667  648.333333  495.400000  679.800000   \n",
              "\n",
              "             v6          v7           v8 sample_type  \n",
              "0    273.133333  742.066667  4047.733333       lab 1  \n",
              "1    220.066667  712.000000  4673.466667       lab 1  \n",
              "2    222.133333  677.200000  4386.800000       lab 1  \n",
              "3    195.944444  678.555556  4588.777778       lab 1  \n",
              "4    196.000000  677.133333  4867.066667       lab 1  \n",
              "..          ...         ...          ...         ...  \n",
              "155  355.250000  712.312500  3943.687500       lab 2  \n",
              "156  393.500000  788.812500  3928.187500       lab 2  \n",
              "157  366.600000  792.133333  3861.200000       lab 2  \n",
              "158  359.062500  730.125000  3859.062500       lab 2  \n",
              "159  346.266667  718.733333  3903.333333       lab 2  \n",
              "\n",
              "[160 rows x 10 columns]"
            ]
          },
          "execution_count": 3,
          "metadata": {},
          "output_type": "execute_result"
        }
      ],
      "source": [
        "data = pd.read_excel('aria_data.xlsx')\n",
        "data"
      ]
    },
    {
      "attachments": {},
      "cell_type": "markdown",
      "metadata": {},
      "source": [
        "Checking detail info from the dataset"
      ]
    },
    {
      "cell_type": "code",
      "execution_count": 4,
      "metadata": {
        "colab": {
          "base_uri": "https://localhost:8080/"
        },
        "id": "f9NBL04DNROg",
        "outputId": "9de5b9c1-f738-420a-b53b-f1f71014514b"
      },
      "outputs": [
        {
          "name": "stdout",
          "output_type": "stream",
          "text": [
            "<class 'pandas.core.frame.DataFrame'>\n",
            "RangeIndex: 160 entries, 0 to 159\n",
            "Data columns (total 10 columns):\n",
            " #   Column       Non-Null Count  Dtype  \n",
            "---  ------       --------------  -----  \n",
            " 0   target       160 non-null    float64\n",
            " 1   v1           160 non-null    float64\n",
            " 2   v2           160 non-null    float64\n",
            " 3   v3           160 non-null    float64\n",
            " 4   v4           160 non-null    float64\n",
            " 5   v5           160 non-null    float64\n",
            " 6   v6           160 non-null    float64\n",
            " 7   v7           160 non-null    float64\n",
            " 8   v8           160 non-null    float64\n",
            " 9   sample_type  160 non-null    object \n",
            "dtypes: float64(9), object(1)\n",
            "memory usage: 12.6+ KB\n"
          ]
        }
      ],
      "source": [
        "data.info()"
      ]
    },
    {
      "attachments": {},
      "cell_type": "markdown",
      "metadata": {},
      "source": [
        "Checking central tendency "
      ]
    },
    {
      "cell_type": "code",
      "execution_count": 5,
      "metadata": {
        "colab": {
          "base_uri": "https://localhost:8080/",
          "height": 300
        },
        "id": "f0GekH2AOh0b",
        "outputId": "1ab29a75-e7d5-4d49-cbbc-5085fc7e63d0"
      },
      "outputs": [
        {
          "data": {
            "text/html": [
              "<div>\n",
              "<style scoped>\n",
              "    .dataframe tbody tr th:only-of-type {\n",
              "        vertical-align: middle;\n",
              "    }\n",
              "\n",
              "    .dataframe tbody tr th {\n",
              "        vertical-align: top;\n",
              "    }\n",
              "\n",
              "    .dataframe thead th {\n",
              "        text-align: right;\n",
              "    }\n",
              "</style>\n",
              "<table border=\"1\" class=\"dataframe\">\n",
              "  <thead>\n",
              "    <tr style=\"text-align: right;\">\n",
              "      <th></th>\n",
              "      <th>target</th>\n",
              "      <th>v1</th>\n",
              "      <th>v2</th>\n",
              "      <th>v3</th>\n",
              "      <th>v4</th>\n",
              "      <th>v5</th>\n",
              "      <th>v6</th>\n",
              "      <th>v7</th>\n",
              "      <th>v8</th>\n",
              "    </tr>\n",
              "  </thead>\n",
              "  <tbody>\n",
              "    <tr>\n",
              "      <th>count</th>\n",
              "      <td>160.00000</td>\n",
              "      <td>160.000000</td>\n",
              "      <td>160.000000</td>\n",
              "      <td>160.000000</td>\n",
              "      <td>160.000000</td>\n",
              "      <td>160.000000</td>\n",
              "      <td>160.000000</td>\n",
              "      <td>160.000000</td>\n",
              "      <td>160.000000</td>\n",
              "    </tr>\n",
              "    <tr>\n",
              "      <th>mean</th>\n",
              "      <td>4.73375</td>\n",
              "      <td>389.892437</td>\n",
              "      <td>237.442677</td>\n",
              "      <td>480.573041</td>\n",
              "      <td>394.109622</td>\n",
              "      <td>487.316520</td>\n",
              "      <td>251.450820</td>\n",
              "      <td>714.737926</td>\n",
              "      <td>4456.913233</td>\n",
              "    </tr>\n",
              "    <tr>\n",
              "      <th>std</th>\n",
              "      <td>0.21405</td>\n",
              "      <td>148.673511</td>\n",
              "      <td>70.128690</td>\n",
              "      <td>118.798984</td>\n",
              "      <td>63.060442</td>\n",
              "      <td>100.941711</td>\n",
              "      <td>59.634652</td>\n",
              "      <td>51.148098</td>\n",
              "      <td>335.035933</td>\n",
              "    </tr>\n",
              "    <tr>\n",
              "      <th>min</th>\n",
              "      <td>4.13000</td>\n",
              "      <td>227.285714</td>\n",
              "      <td>178.800000</td>\n",
              "      <td>348.933333</td>\n",
              "      <td>313.733333</td>\n",
              "      <td>373.333333</td>\n",
              "      <td>189.200000</td>\n",
              "      <td>586.266667</td>\n",
              "      <td>3725.666667</td>\n",
              "    </tr>\n",
              "    <tr>\n",
              "      <th>25%</th>\n",
              "      <td>4.60000</td>\n",
              "      <td>268.608333</td>\n",
              "      <td>194.029018</td>\n",
              "      <td>384.419643</td>\n",
              "      <td>353.181250</td>\n",
              "      <td>418.583333</td>\n",
              "      <td>213.000000</td>\n",
              "      <td>678.385417</td>\n",
              "      <td>4273.437500</td>\n",
              "    </tr>\n",
              "    <tr>\n",
              "      <th>50%</th>\n",
              "      <td>4.72000</td>\n",
              "      <td>295.162500</td>\n",
              "      <td>204.187500</td>\n",
              "      <td>414.383929</td>\n",
              "      <td>370.741667</td>\n",
              "      <td>456.031250</td>\n",
              "      <td>226.062500</td>\n",
              "      <td>718.833333</td>\n",
              "      <td>4554.766667</td>\n",
              "    </tr>\n",
              "    <tr>\n",
              "      <th>75%</th>\n",
              "      <td>4.89000</td>\n",
              "      <td>536.409375</td>\n",
              "      <td>244.716667</td>\n",
              "      <td>591.611404</td>\n",
              "      <td>424.131250</td>\n",
              "      <td>496.475000</td>\n",
              "      <td>262.531250</td>\n",
              "      <td>751.446875</td>\n",
              "      <td>4700.612500</td>\n",
              "    </tr>\n",
              "    <tr>\n",
              "      <th>max</th>\n",
              "      <td>5.26000</td>\n",
              "      <td>678.375000</td>\n",
              "      <td>422.812500</td>\n",
              "      <td>722.312500</td>\n",
              "      <td>558.500000</td>\n",
              "      <td>721.000000</td>\n",
              "      <td>415.375000</td>\n",
              "      <td>853.466667</td>\n",
              "      <td>5086.375000</td>\n",
              "    </tr>\n",
              "  </tbody>\n",
              "</table>\n",
              "</div>"
            ],
            "text/plain": [
              "          target          v1          v2          v3          v4          v5  \\\n",
              "count  160.00000  160.000000  160.000000  160.000000  160.000000  160.000000   \n",
              "mean     4.73375  389.892437  237.442677  480.573041  394.109622  487.316520   \n",
              "std      0.21405  148.673511   70.128690  118.798984   63.060442  100.941711   \n",
              "min      4.13000  227.285714  178.800000  348.933333  313.733333  373.333333   \n",
              "25%      4.60000  268.608333  194.029018  384.419643  353.181250  418.583333   \n",
              "50%      4.72000  295.162500  204.187500  414.383929  370.741667  456.031250   \n",
              "75%      4.89000  536.409375  244.716667  591.611404  424.131250  496.475000   \n",
              "max      5.26000  678.375000  422.812500  722.312500  558.500000  721.000000   \n",
              "\n",
              "               v6          v7           v8  \n",
              "count  160.000000  160.000000   160.000000  \n",
              "mean   251.450820  714.737926  4456.913233  \n",
              "std     59.634652   51.148098   335.035933  \n",
              "min    189.200000  586.266667  3725.666667  \n",
              "25%    213.000000  678.385417  4273.437500  \n",
              "50%    226.062500  718.833333  4554.766667  \n",
              "75%    262.531250  751.446875  4700.612500  \n",
              "max    415.375000  853.466667  5086.375000  "
            ]
          },
          "execution_count": 5,
          "metadata": {},
          "output_type": "execute_result"
        }
      ],
      "source": [
        "data.describe()"
      ]
    },
    {
      "attachments": {},
      "cell_type": "markdown",
      "metadata": {},
      "source": [
        "Checking missing value"
      ]
    },
    {
      "cell_type": "code",
      "execution_count": 6,
      "metadata": {
        "colab": {
          "base_uri": "https://localhost:8080/"
        },
        "id": "oawJrADeOk-s",
        "outputId": "e541d515-1439-44b2-fd00-030daa54ecb5"
      },
      "outputs": [
        {
          "data": {
            "text/plain": [
              "target         0\n",
              "v1             0\n",
              "v2             0\n",
              "v3             0\n",
              "v4             0\n",
              "v5             0\n",
              "v6             0\n",
              "v7             0\n",
              "v8             0\n",
              "sample_type    0\n",
              "dtype: int64"
            ]
          },
          "execution_count": 6,
          "metadata": {},
          "output_type": "execute_result"
        }
      ],
      "source": [
        "data.isnull().sum()"
      ]
    },
    {
      "attachments": {},
      "cell_type": "markdown",
      "metadata": {},
      "source": [
        "Checking duplicated data"
      ]
    },
    {
      "cell_type": "code",
      "execution_count": 7,
      "metadata": {
        "colab": {
          "base_uri": "https://localhost:8080/"
        },
        "id": "B_U1uo6NOs2u",
        "outputId": "63eaf6da-8aad-41d2-9182-531a6e8cf743"
      },
      "outputs": [
        {
          "data": {
            "text/plain": [
              "(0, 10)"
            ]
          },
          "execution_count": 7,
          "metadata": {},
          "output_type": "execute_result"
        }
      ],
      "source": [
        "data[data.duplicated()].shape"
      ]
    },
    {
      "attachments": {},
      "cell_type": "markdown",
      "metadata": {},
      "source": [
        "Make a copy set from the original data."
      ]
    },
    {
      "cell_type": "code",
      "execution_count": 8,
      "metadata": {
        "id": "uP8idvb0PGpe"
      },
      "outputs": [],
      "source": [
        "data_new = data.copy()"
      ]
    },
    {
      "attachments": {},
      "cell_type": "markdown",
      "metadata": {},
      "source": [
        "Devide the data into categorical and numerical "
      ]
    },
    {
      "cell_type": "code",
      "execution_count": 9,
      "metadata": {
        "id": "JHuE1dJAOvxg"
      },
      "outputs": [],
      "source": [
        "num = data_new[['target','v1','v2','v3','v4','v5','v6','v7','v8']].columns.tolist()\n",
        "cat = data_new[['sample_type']].columns.tolist()"
      ]
    },
    {
      "cell_type": "code",
      "execution_count": 10,
      "metadata": {
        "colab": {
          "base_uri": "https://localhost:8080/"
        },
        "id": "7Uoc3ituPdZf",
        "outputId": "1d0ccd8f-1d25-4f43-a6d4-612d10949191"
      },
      "outputs": [
        {
          "data": {
            "text/plain": [
              "sample_type\n",
              "lab 1          100\n",
              "lab 2           60\n",
              "dtype: int64"
            ]
          },
          "execution_count": 10,
          "metadata": {},
          "output_type": "execute_result"
        }
      ],
      "source": [
        "data_new[cat].value_counts()"
      ]
    },
    {
      "attachments": {},
      "cell_type": "markdown",
      "metadata": {},
      "source": [
        "General overview from the dataset :\n",
        "- There is no missing value \n",
        "- There is no data duplicated \n",
        "- from central tendency we look there is large differences between Q3 and Q4, we will see further in outlier checking. \n",
        "- No need to do data cleaning "
      ]
    },
    {
      "attachments": {},
      "cell_type": "markdown",
      "metadata": {
        "id": "XHrqTnFArNO-"
      },
      "source": [
        "## Exploratory Data Analysis (EDA)"
      ]
    },
    {
      "attachments": {},
      "cell_type": "markdown",
      "metadata": {},
      "source": [
        "We will see the visualization of sample_type coloumn "
      ]
    },
    {
      "cell_type": "code",
      "execution_count": 11,
      "metadata": {
        "colab": {
          "base_uri": "https://localhost:8080/",
          "height": 303
        },
        "id": "MbdeImKfPjj3",
        "outputId": "09590cd1-b33e-42a9-ff24-0ebda99224b4"
      },
      "outputs": [
        {
          "data": {
            "image/png": "[encoded data removed]",
            "text/plain": [
              "<Figure size 800x500 with 1 Axes>"
            ]
          },
          "metadata": {},
          "output_type": "display_data"
        }
      ],
      "source": [
        "plt.figure(figsize = (8,5),facecolor='white')\n",
        "data_new['sample_type'].value_counts().plot(kind = 'pie',explode = [0.2,0.0], shadow = True,autopct = \"%.2f\")\n",
        "plt.legend(['Lab 1','Lab 2'])\n",
        "plt.show()"
      ]
    },
    {
      "attachments": {},
      "cell_type": "markdown",
      "metadata": {},
      "source": [
        "The result is a dominance of the sample variables from Lab 1"
      ]
    },
    {
      "attachments": {},
      "cell_type": "markdown",
      "metadata": {},
      "source": [
        "Next, lets take a look visualization from variable v1 againts sample_type"
      ]
    },
    {
      "cell_type": "code",
      "execution_count": 12,
      "metadata": {
        "colab": {
          "base_uri": "https://localhost:8080/",
          "height": 387
        },
        "id": "momGi8HPrjQW",
        "outputId": "b43b9ef5-f5a7-409a-8f61-422f5c1de8ba"
      },
      "outputs": [
        {
          "data": {
            "text/plain": [
              "<seaborn.axisgrid.FacetGrid at 0x23ac40f8070>"
            ]
          },
          "execution_count": 12,
          "metadata": {},
          "output_type": "execute_result"
        },
        {
          "data": {
            "image/png": "[encoded data removed]",
            "text/plain": [
              "<Figure size 599.736x500 with 1 Axes>"
            ]
          },
          "metadata": {},
          "output_type": "display_data"
        }
      ],
      "source": [
        "sns.displot(data=data_new, x='v1', hue='sample_type',palette='cubehelix')"
      ]
    },
    {
      "attachments": {},
      "cell_type": "markdown",
      "metadata": {},
      "source": [
        "For the variable v1 most populated from lab 1 as well, and the most value is about 250 "
      ]
    },
    {
      "attachments": {},
      "cell_type": "markdown",
      "metadata": {},
      "source": [
        "visualization of variable v2"
      ]
    },
    {
      "cell_type": "code",
      "execution_count": 13,
      "metadata": {},
      "outputs": [
        {
          "data": {
            "text/plain": [
              "<AxesSubplot: xlabel='v2', ylabel='Count'>"
            ]
          },
          "execution_count": 13,
          "metadata": {},
          "output_type": "execute_result"
        },
        {
          "data": {
            "image/png": "[encoded data removed]",
            "text/plain": [
              "<Figure size 640x480 with 1 Axes>"
            ]
          },
          "metadata": {},
          "output_type": "display_data"
        }
      ],
      "source": [
        "sns.histplot(data_new['v2'],kde=True,color='grey',bins=20)"
      ]
    },
    {
      "attachments": {},
      "cell_type": "markdown",
      "metadata": {},
      "source": [
        "We see that the value of the variable v2 is between 200-400 and mostly in 200. "
      ]
    },
    {
      "attachments": {},
      "cell_type": "markdown",
      "metadata": {},
      "source": [
        "How if the variable which has large value from all variable, v8 againts the sample_type "
      ]
    },
    {
      "cell_type": "code",
      "execution_count": 14,
      "metadata": {},
      "outputs": [
        {
          "data": {
            "text/plain": [
              "<seaborn.axisgrid.FacetGrid at 0x23acb4ec760>"
            ]
          },
          "execution_count": 14,
          "metadata": {},
          "output_type": "execute_result"
        },
        {
          "data": {
            "image/png": "[encoded data removed]",
            "text/plain": [
              "<Figure size 599.736x500 with 1 Axes>"
            ]
          },
          "metadata": {},
          "output_type": "display_data"
        }
      ],
      "source": [
        "sns.displot(data=data_new, x='v8', hue='sample_type',palette='Set2')"
      ]
    },
    {
      "attachments": {},
      "cell_type": "markdown",
      "metadata": {},
      "source": [
        "As same as before, sample type dominate from lab1, and the peak of the value is about 4700 which have 33 counts data. "
      ]
    },
    {
      "attachments": {},
      "cell_type": "markdown",
      "metadata": {},
      "source": [
        "Lets see the target "
      ]
    },
    {
      "cell_type": "code",
      "execution_count": 16,
      "metadata": {},
      "outputs": [
        {
          "data": {
            "text/plain": [
              "<AxesSubplot: xlabel='target', ylabel='Count'>"
            ]
          },
          "execution_count": 16,
          "metadata": {},
          "output_type": "execute_result"
        },
        {
          "data": {
            "image/png": "[encoded data removed]",
            "text/plain": [
              "<Figure size 640x480 with 1 Axes>"
            ]
          },
          "metadata": {},
          "output_type": "display_data"
        }
      ],
      "source": [
        "sns.histplot(data_new['target'],kde=True,color='grey',bins=20)"
      ]
    },
    {
      "attachments": {},
      "cell_type": "markdown",
      "metadata": {},
      "source": [
        "The value of the target is between 4.2 and 5.2, and the peak is around 4.7 . We can conclude that the best value of plant nutrition is about the range from 4.6 until 4.9 can be accepted or is good enough. "
      ]
    },
    {
      "attachments": {},
      "cell_type": "markdown",
      "metadata": {},
      "source": [
        "General overview : \n",
        "\n",
        "- Every variable has different value that affect to plant nutrition\n",
        "- The variable can be nitrogen, phosporus, pottasium, magnesium, sulfur, calcium etc\n",
        "- The sample type is dominate from lab 1 \n",
        "- The target has the range between 4.2 until 5.2 which is good if the value was between 4.6-4.9."
      ]
    },
    {
      "attachments": {},
      "cell_type": "markdown",
      "metadata": {},
      "source": [
        "## Data Preprocessing"
      ]
    },
    {
      "cell_type": "code",
      "execution_count": 17,
      "metadata": {
        "colab": {
          "base_uri": "https://localhost:8080/",
          "height": 519
        },
        "id": "aYY-RGJzr1VV",
        "outputId": "0b3f30ba-7f25-4dbf-f0f1-9f7cdcde850f"
      },
      "outputs": [
        {
          "data": {
            "text/html": [
              "<div>\n",
              "<style scoped>\n",
              "    .dataframe tbody tr th:only-of-type {\n",
              "        vertical-align: middle;\n",
              "    }\n",
              "\n",
              "    .dataframe tbody tr th {\n",
              "        vertical-align: top;\n",
              "    }\n",
              "\n",
              "    .dataframe thead th {\n",
              "        text-align: right;\n",
              "    }\n",
              "</style>\n",
              "<table border=\"1\" class=\"dataframe\">\n",
              "  <thead>\n",
              "    <tr style=\"text-align: right;\">\n",
              "      <th></th>\n",
              "      <th>target</th>\n",
              "      <th>v1</th>\n",
              "      <th>v2</th>\n",
              "      <th>v3</th>\n",
              "      <th>v4</th>\n",
              "      <th>v5</th>\n",
              "      <th>v6</th>\n",
              "      <th>v7</th>\n",
              "      <th>v8</th>\n",
              "      <th>sample_type</th>\n",
              "    </tr>\n",
              "  </thead>\n",
              "  <tbody>\n",
              "    <tr>\n",
              "      <th>158</th>\n",
              "      <td>4.35</td>\n",
              "      <td>615.312500</td>\n",
              "      <td>366.750000</td>\n",
              "      <td>642.937500</td>\n",
              "      <td>483.687500</td>\n",
              "      <td>675.625000</td>\n",
              "      <td>359.062500</td>\n",
              "      <td>730.125000</td>\n",
              "      <td>3859.062500</td>\n",
              "      <td>lab 2</td>\n",
              "    </tr>\n",
              "    <tr>\n",
              "      <th>63</th>\n",
              "      <td>4.67</td>\n",
              "      <td>256.000000</td>\n",
              "      <td>201.375000</td>\n",
              "      <td>393.937500</td>\n",
              "      <td>361.875000</td>\n",
              "      <td>421.687500</td>\n",
              "      <td>223.875000</td>\n",
              "      <td>726.687500</td>\n",
              "      <td>4589.062500</td>\n",
              "      <td>lab 1</td>\n",
              "    </tr>\n",
              "    <tr>\n",
              "      <th>40</th>\n",
              "      <td>4.62</td>\n",
              "      <td>269.937500</td>\n",
              "      <td>200.875000</td>\n",
              "      <td>414.125000</td>\n",
              "      <td>384.812500</td>\n",
              "      <td>449.500000</td>\n",
              "      <td>250.062500</td>\n",
              "      <td>758.875000</td>\n",
              "      <td>4491.062500</td>\n",
              "      <td>lab 1</td>\n",
              "    </tr>\n",
              "    <tr>\n",
              "      <th>31</th>\n",
              "      <td>4.94</td>\n",
              "      <td>286.466667</td>\n",
              "      <td>197.266667</td>\n",
              "      <td>389.533333</td>\n",
              "      <td>342.266667</td>\n",
              "      <td>413.733333</td>\n",
              "      <td>195.066667</td>\n",
              "      <td>704.200000</td>\n",
              "      <td>4470.333333</td>\n",
              "      <td>lab 1</td>\n",
              "    </tr>\n",
              "    <tr>\n",
              "      <th>117</th>\n",
              "      <td>4.92</td>\n",
              "      <td>515.687500</td>\n",
              "      <td>189.375000</td>\n",
              "      <td>572.500000</td>\n",
              "      <td>355.375000</td>\n",
              "      <td>462.062500</td>\n",
              "      <td>192.687500</td>\n",
              "      <td>632.625000</td>\n",
              "      <td>4709.375000</td>\n",
              "      <td>lab 2</td>\n",
              "    </tr>\n",
              "    <tr>\n",
              "      <th>74</th>\n",
              "      <td>4.89</td>\n",
              "      <td>266.375000</td>\n",
              "      <td>186.625000</td>\n",
              "      <td>389.312500</td>\n",
              "      <td>381.625000</td>\n",
              "      <td>425.937500</td>\n",
              "      <td>222.562500</td>\n",
              "      <td>754.562500</td>\n",
              "      <td>4806.625000</td>\n",
              "      <td>lab 1</td>\n",
              "    </tr>\n",
              "    <tr>\n",
              "      <th>130</th>\n",
              "      <td>4.89</td>\n",
              "      <td>663.375000</td>\n",
              "      <td>422.812500</td>\n",
              "      <td>722.312500</td>\n",
              "      <td>541.750000</td>\n",
              "      <td>721.000000</td>\n",
              "      <td>415.375000</td>\n",
              "      <td>738.125000</td>\n",
              "      <td>3836.812500</td>\n",
              "      <td>lab 2</td>\n",
              "    </tr>\n",
              "    <tr>\n",
              "      <th>142</th>\n",
              "      <td>4.84</td>\n",
              "      <td>601.312500</td>\n",
              "      <td>369.687500</td>\n",
              "      <td>662.750000</td>\n",
              "      <td>482.812500</td>\n",
              "      <td>663.687500</td>\n",
              "      <td>355.625000</td>\n",
              "      <td>706.375000</td>\n",
              "      <td>3873.000000</td>\n",
              "      <td>lab 2</td>\n",
              "    </tr>\n",
              "    <tr>\n",
              "      <th>111</th>\n",
              "      <td>5.00</td>\n",
              "      <td>521.187500</td>\n",
              "      <td>202.437500</td>\n",
              "      <td>577.562500</td>\n",
              "      <td>369.125000</td>\n",
              "      <td>479.375000</td>\n",
              "      <td>197.500000</td>\n",
              "      <td>655.062500</td>\n",
              "      <td>4601.187500</td>\n",
              "      <td>lab 2</td>\n",
              "    </tr>\n",
              "    <tr>\n",
              "      <th>25</th>\n",
              "      <td>4.66</td>\n",
              "      <td>251.812500</td>\n",
              "      <td>182.625000</td>\n",
              "      <td>355.562500</td>\n",
              "      <td>332.500000</td>\n",
              "      <td>382.562500</td>\n",
              "      <td>200.187500</td>\n",
              "      <td>659.687500</td>\n",
              "      <td>4189.625000</td>\n",
              "      <td>lab 1</td>\n",
              "    </tr>\n",
              "    <tr>\n",
              "      <th>9</th>\n",
              "      <td>4.72</td>\n",
              "      <td>268.266667</td>\n",
              "      <td>178.800000</td>\n",
              "      <td>370.000000</td>\n",
              "      <td>342.466667</td>\n",
              "      <td>384.533333</td>\n",
              "      <td>204.733333</td>\n",
              "      <td>690.333333</td>\n",
              "      <td>4255.200000</td>\n",
              "      <td>lab 1</td>\n",
              "    </tr>\n",
              "    <tr>\n",
              "      <th>68</th>\n",
              "      <td>4.68</td>\n",
              "      <td>298.125000</td>\n",
              "      <td>189.312500</td>\n",
              "      <td>382.687500</td>\n",
              "      <td>363.500000</td>\n",
              "      <td>419.437500</td>\n",
              "      <td>219.000000</td>\n",
              "      <td>694.375000</td>\n",
              "      <td>4801.187500</td>\n",
              "      <td>lab 1</td>\n",
              "    </tr>\n",
              "    <tr>\n",
              "      <th>80</th>\n",
              "      <td>4.45</td>\n",
              "      <td>290.733333</td>\n",
              "      <td>211.400000</td>\n",
              "      <td>386.400000</td>\n",
              "      <td>361.600000</td>\n",
              "      <td>421.666667</td>\n",
              "      <td>236.333333</td>\n",
              "      <td>725.000000</td>\n",
              "      <td>4557.866667</td>\n",
              "      <td>lab 1</td>\n",
              "    </tr>\n",
              "    <tr>\n",
              "      <th>112</th>\n",
              "      <td>5.00</td>\n",
              "      <td>505.866667</td>\n",
              "      <td>184.266667</td>\n",
              "      <td>547.866667</td>\n",
              "      <td>337.933333</td>\n",
              "      <td>460.666667</td>\n",
              "      <td>196.333333</td>\n",
              "      <td>596.400000</td>\n",
              "      <td>4430.066667</td>\n",
              "      <td>lab 2</td>\n",
              "    </tr>\n",
              "    <tr>\n",
              "      <th>26</th>\n",
              "      <td>4.94</td>\n",
              "      <td>270.000000</td>\n",
              "      <td>184.187500</td>\n",
              "      <td>356.125000</td>\n",
              "      <td>330.375000</td>\n",
              "      <td>399.937500</td>\n",
              "      <td>219.062500</td>\n",
              "      <td>679.750000</td>\n",
              "      <td>3961.625000</td>\n",
              "      <td>lab 1</td>\n",
              "    </tr>\n",
              "  </tbody>\n",
              "</table>\n",
              "</div>"
            ],
            "text/plain": [
              "     target          v1          v2          v3          v4          v5  \\\n",
              "158    4.35  615.312500  366.750000  642.937500  483.687500  675.625000   \n",
              "63     4.67  256.000000  201.375000  393.937500  361.875000  421.687500   \n",
              "40     4.62  269.937500  200.875000  414.125000  384.812500  449.500000   \n",
              "31     4.94  286.466667  197.266667  389.533333  342.266667  413.733333   \n",
              "117    4.92  515.687500  189.375000  572.500000  355.375000  462.062500   \n",
              "74     4.89  266.375000  186.625000  389.312500  381.625000  425.937500   \n",
              "130    4.89  663.375000  422.812500  722.312500  541.750000  721.000000   \n",
              "142    4.84  601.312500  369.687500  662.750000  482.812500  663.687500   \n",
              "111    5.00  521.187500  202.437500  577.562500  369.125000  479.375000   \n",
              "25     4.66  251.812500  182.625000  355.562500  332.500000  382.562500   \n",
              "9      4.72  268.266667  178.800000  370.000000  342.466667  384.533333   \n",
              "68     4.68  298.125000  189.312500  382.687500  363.500000  419.437500   \n",
              "80     4.45  290.733333  211.400000  386.400000  361.600000  421.666667   \n",
              "112    5.00  505.866667  184.266667  547.866667  337.933333  460.666667   \n",
              "26     4.94  270.000000  184.187500  356.125000  330.375000  399.937500   \n",
              "\n",
              "             v6          v7           v8 sample_type  \n",
              "158  359.062500  730.125000  3859.062500       lab 2  \n",
              "63   223.875000  726.687500  4589.062500       lab 1  \n",
              "40   250.062500  758.875000  4491.062500       lab 1  \n",
              "31   195.066667  704.200000  4470.333333       lab 1  \n",
              "117  192.687500  632.625000  4709.375000       lab 2  \n",
              "74   222.562500  754.562500  4806.625000       lab 1  \n",
              "130  415.375000  738.125000  3836.812500       lab 2  \n",
              "142  355.625000  706.375000  3873.000000       lab 2  \n",
              "111  197.500000  655.062500  4601.187500       lab 2  \n",
              "25   200.187500  659.687500  4189.625000       lab 1  \n",
              "9    204.733333  690.333333  4255.200000       lab 1  \n",
              "68   219.000000  694.375000  4801.187500       lab 1  \n",
              "80   236.333333  725.000000  4557.866667       lab 1  \n",
              "112  196.333333  596.400000  4430.066667       lab 2  \n",
              "26   219.062500  679.750000  3961.625000       lab 1  "
            ]
          },
          "execution_count": 17,
          "metadata": {},
          "output_type": "execute_result"
        }
      ],
      "source": [
        "#prepare data for model inference\n",
        "data_inf =data_new.sample(15,random_state=15)\n",
        "data_inf"
      ]
    },
    {
      "cell_type": "code",
      "execution_count": 18,
      "metadata": {
        "colab": {
          "base_uri": "https://localhost:8080/",
          "height": 112
        },
        "id": "8fSXwJBUuPPp",
        "outputId": "fc2e85c2-e9e4-4be0-d1a5-cea6b42d24b7"
      },
      "outputs": [
        {
          "data": {
            "text/html": [
              "<div>\n",
              "<style scoped>\n",
              "    .dataframe tbody tr th:only-of-type {\n",
              "        vertical-align: middle;\n",
              "    }\n",
              "\n",
              "    .dataframe tbody tr th {\n",
              "        vertical-align: top;\n",
              "    }\n",
              "\n",
              "    .dataframe thead th {\n",
              "        text-align: right;\n",
              "    }\n",
              "</style>\n",
              "<table border=\"1\" class=\"dataframe\">\n",
              "  <thead>\n",
              "    <tr style=\"text-align: right;\">\n",
              "      <th></th>\n",
              "      <th>target</th>\n",
              "      <th>v1</th>\n",
              "      <th>v2</th>\n",
              "      <th>v3</th>\n",
              "      <th>v4</th>\n",
              "      <th>v5</th>\n",
              "      <th>v6</th>\n",
              "      <th>v7</th>\n",
              "      <th>v8</th>\n",
              "      <th>sample_type</th>\n",
              "    </tr>\n",
              "  </thead>\n",
              "  <tbody>\n",
              "    <tr>\n",
              "      <th>0</th>\n",
              "      <td>4.63</td>\n",
              "      <td>260.6</td>\n",
              "      <td>199.0</td>\n",
              "      <td>391.333333</td>\n",
              "      <td>371.733333</td>\n",
              "      <td>466.8</td>\n",
              "      <td>273.133333</td>\n",
              "      <td>742.066667</td>\n",
              "      <td>4047.733333</td>\n",
              "      <td>lab 1</td>\n",
              "    </tr>\n",
              "    <tr>\n",
              "      <th>1</th>\n",
              "      <td>5.00</td>\n",
              "      <td>263.2</td>\n",
              "      <td>194.6</td>\n",
              "      <td>393.666667</td>\n",
              "      <td>348.533333</td>\n",
              "      <td>401.8</td>\n",
              "      <td>220.066667</td>\n",
              "      <td>712.000000</td>\n",
              "      <td>4673.466667</td>\n",
              "      <td>lab 1</td>\n",
              "    </tr>\n",
              "  </tbody>\n",
              "</table>\n",
              "</div>"
            ],
            "text/plain": [
              "   target     v1     v2          v3          v4     v5          v6  \\\n",
              "0    4.63  260.6  199.0  391.333333  371.733333  466.8  273.133333   \n",
              "1    5.00  263.2  194.6  393.666667  348.533333  401.8  220.066667   \n",
              "\n",
              "           v7           v8 sample_type  \n",
              "0  742.066667  4047.733333       lab 1  \n",
              "1  712.000000  4673.466667       lab 1  "
            ]
          },
          "execution_count": 18,
          "metadata": {},
          "output_type": "execute_result"
        }
      ],
      "source": [
        "\n",
        "# Delete Inference-Set from Dataset\n",
        "\n",
        "data_new = data_new.drop(data_inf.index)\n",
        "data_new.head(2)"
      ]
    },
    {
      "cell_type": "code",
      "execution_count": 19,
      "metadata": {
        "colab": {
          "base_uri": "https://localhost:8080/",
          "height": 519
        },
        "id": "TqjW6bYxuVIr",
        "outputId": "6dbac659-32d8-4dc7-dd29-abae3790bf78"
      },
      "outputs": [
        {
          "data": {
            "text/html": [
              "<div>\n",
              "<style scoped>\n",
              "    .dataframe tbody tr th:only-of-type {\n",
              "        vertical-align: middle;\n",
              "    }\n",
              "\n",
              "    .dataframe tbody tr th {\n",
              "        vertical-align: top;\n",
              "    }\n",
              "\n",
              "    .dataframe thead th {\n",
              "        text-align: right;\n",
              "    }\n",
              "</style>\n",
              "<table border=\"1\" class=\"dataframe\">\n",
              "  <thead>\n",
              "    <tr style=\"text-align: right;\">\n",
              "      <th></th>\n",
              "      <th>target</th>\n",
              "      <th>v1</th>\n",
              "      <th>v2</th>\n",
              "      <th>v3</th>\n",
              "      <th>v4</th>\n",
              "      <th>v5</th>\n",
              "      <th>v6</th>\n",
              "      <th>v7</th>\n",
              "      <th>v8</th>\n",
              "      <th>sample_type</th>\n",
              "    </tr>\n",
              "  </thead>\n",
              "  <tbody>\n",
              "    <tr>\n",
              "      <th>0</th>\n",
              "      <td>4.35</td>\n",
              "      <td>615.312500</td>\n",
              "      <td>366.750000</td>\n",
              "      <td>642.937500</td>\n",
              "      <td>483.687500</td>\n",
              "      <td>675.625000</td>\n",
              "      <td>359.062500</td>\n",
              "      <td>730.125000</td>\n",
              "      <td>3859.062500</td>\n",
              "      <td>lab 2</td>\n",
              "    </tr>\n",
              "    <tr>\n",
              "      <th>1</th>\n",
              "      <td>4.67</td>\n",
              "      <td>256.000000</td>\n",
              "      <td>201.375000</td>\n",
              "      <td>393.937500</td>\n",
              "      <td>361.875000</td>\n",
              "      <td>421.687500</td>\n",
              "      <td>223.875000</td>\n",
              "      <td>726.687500</td>\n",
              "      <td>4589.062500</td>\n",
              "      <td>lab 1</td>\n",
              "    </tr>\n",
              "    <tr>\n",
              "      <th>2</th>\n",
              "      <td>4.62</td>\n",
              "      <td>269.937500</td>\n",
              "      <td>200.875000</td>\n",
              "      <td>414.125000</td>\n",
              "      <td>384.812500</td>\n",
              "      <td>449.500000</td>\n",
              "      <td>250.062500</td>\n",
              "      <td>758.875000</td>\n",
              "      <td>4491.062500</td>\n",
              "      <td>lab 1</td>\n",
              "    </tr>\n",
              "    <tr>\n",
              "      <th>3</th>\n",
              "      <td>4.94</td>\n",
              "      <td>286.466667</td>\n",
              "      <td>197.266667</td>\n",
              "      <td>389.533333</td>\n",
              "      <td>342.266667</td>\n",
              "      <td>413.733333</td>\n",
              "      <td>195.066667</td>\n",
              "      <td>704.200000</td>\n",
              "      <td>4470.333333</td>\n",
              "      <td>lab 1</td>\n",
              "    </tr>\n",
              "    <tr>\n",
              "      <th>4</th>\n",
              "      <td>4.92</td>\n",
              "      <td>515.687500</td>\n",
              "      <td>189.375000</td>\n",
              "      <td>572.500000</td>\n",
              "      <td>355.375000</td>\n",
              "      <td>462.062500</td>\n",
              "      <td>192.687500</td>\n",
              "      <td>632.625000</td>\n",
              "      <td>4709.375000</td>\n",
              "      <td>lab 2</td>\n",
              "    </tr>\n",
              "    <tr>\n",
              "      <th>5</th>\n",
              "      <td>4.89</td>\n",
              "      <td>266.375000</td>\n",
              "      <td>186.625000</td>\n",
              "      <td>389.312500</td>\n",
              "      <td>381.625000</td>\n",
              "      <td>425.937500</td>\n",
              "      <td>222.562500</td>\n",
              "      <td>754.562500</td>\n",
              "      <td>4806.625000</td>\n",
              "      <td>lab 1</td>\n",
              "    </tr>\n",
              "    <tr>\n",
              "      <th>6</th>\n",
              "      <td>4.89</td>\n",
              "      <td>663.375000</td>\n",
              "      <td>422.812500</td>\n",
              "      <td>722.312500</td>\n",
              "      <td>541.750000</td>\n",
              "      <td>721.000000</td>\n",
              "      <td>415.375000</td>\n",
              "      <td>738.125000</td>\n",
              "      <td>3836.812500</td>\n",
              "      <td>lab 2</td>\n",
              "    </tr>\n",
              "    <tr>\n",
              "      <th>7</th>\n",
              "      <td>4.84</td>\n",
              "      <td>601.312500</td>\n",
              "      <td>369.687500</td>\n",
              "      <td>662.750000</td>\n",
              "      <td>482.812500</td>\n",
              "      <td>663.687500</td>\n",
              "      <td>355.625000</td>\n",
              "      <td>706.375000</td>\n",
              "      <td>3873.000000</td>\n",
              "      <td>lab 2</td>\n",
              "    </tr>\n",
              "    <tr>\n",
              "      <th>8</th>\n",
              "      <td>5.00</td>\n",
              "      <td>521.187500</td>\n",
              "      <td>202.437500</td>\n",
              "      <td>577.562500</td>\n",
              "      <td>369.125000</td>\n",
              "      <td>479.375000</td>\n",
              "      <td>197.500000</td>\n",
              "      <td>655.062500</td>\n",
              "      <td>4601.187500</td>\n",
              "      <td>lab 2</td>\n",
              "    </tr>\n",
              "    <tr>\n",
              "      <th>9</th>\n",
              "      <td>4.66</td>\n",
              "      <td>251.812500</td>\n",
              "      <td>182.625000</td>\n",
              "      <td>355.562500</td>\n",
              "      <td>332.500000</td>\n",
              "      <td>382.562500</td>\n",
              "      <td>200.187500</td>\n",
              "      <td>659.687500</td>\n",
              "      <td>4189.625000</td>\n",
              "      <td>lab 1</td>\n",
              "    </tr>\n",
              "    <tr>\n",
              "      <th>10</th>\n",
              "      <td>4.72</td>\n",
              "      <td>268.266667</td>\n",
              "      <td>178.800000</td>\n",
              "      <td>370.000000</td>\n",
              "      <td>342.466667</td>\n",
              "      <td>384.533333</td>\n",
              "      <td>204.733333</td>\n",
              "      <td>690.333333</td>\n",
              "      <td>4255.200000</td>\n",
              "      <td>lab 1</td>\n",
              "    </tr>\n",
              "    <tr>\n",
              "      <th>11</th>\n",
              "      <td>4.68</td>\n",
              "      <td>298.125000</td>\n",
              "      <td>189.312500</td>\n",
              "      <td>382.687500</td>\n",
              "      <td>363.500000</td>\n",
              "      <td>419.437500</td>\n",
              "      <td>219.000000</td>\n",
              "      <td>694.375000</td>\n",
              "      <td>4801.187500</td>\n",
              "      <td>lab 1</td>\n",
              "    </tr>\n",
              "    <tr>\n",
              "      <th>12</th>\n",
              "      <td>4.45</td>\n",
              "      <td>290.733333</td>\n",
              "      <td>211.400000</td>\n",
              "      <td>386.400000</td>\n",
              "      <td>361.600000</td>\n",
              "      <td>421.666667</td>\n",
              "      <td>236.333333</td>\n",
              "      <td>725.000000</td>\n",
              "      <td>4557.866667</td>\n",
              "      <td>lab 1</td>\n",
              "    </tr>\n",
              "    <tr>\n",
              "      <th>13</th>\n",
              "      <td>5.00</td>\n",
              "      <td>505.866667</td>\n",
              "      <td>184.266667</td>\n",
              "      <td>547.866667</td>\n",
              "      <td>337.933333</td>\n",
              "      <td>460.666667</td>\n",
              "      <td>196.333333</td>\n",
              "      <td>596.400000</td>\n",
              "      <td>4430.066667</td>\n",
              "      <td>lab 2</td>\n",
              "    </tr>\n",
              "    <tr>\n",
              "      <th>14</th>\n",
              "      <td>4.94</td>\n",
              "      <td>270.000000</td>\n",
              "      <td>184.187500</td>\n",
              "      <td>356.125000</td>\n",
              "      <td>330.375000</td>\n",
              "      <td>399.937500</td>\n",
              "      <td>219.062500</td>\n",
              "      <td>679.750000</td>\n",
              "      <td>3961.625000</td>\n",
              "      <td>lab 1</td>\n",
              "    </tr>\n",
              "  </tbody>\n",
              "</table>\n",
              "</div>"
            ],
            "text/plain": [
              "    target          v1          v2          v3          v4          v5  \\\n",
              "0     4.35  615.312500  366.750000  642.937500  483.687500  675.625000   \n",
              "1     4.67  256.000000  201.375000  393.937500  361.875000  421.687500   \n",
              "2     4.62  269.937500  200.875000  414.125000  384.812500  449.500000   \n",
              "3     4.94  286.466667  197.266667  389.533333  342.266667  413.733333   \n",
              "4     4.92  515.687500  189.375000  572.500000  355.375000  462.062500   \n",
              "5     4.89  266.375000  186.625000  389.312500  381.625000  425.937500   \n",
              "6     4.89  663.375000  422.812500  722.312500  541.750000  721.000000   \n",
              "7     4.84  601.312500  369.687500  662.750000  482.812500  663.687500   \n",
              "8     5.00  521.187500  202.437500  577.562500  369.125000  479.375000   \n",
              "9     4.66  251.812500  182.625000  355.562500  332.500000  382.562500   \n",
              "10    4.72  268.266667  178.800000  370.000000  342.466667  384.533333   \n",
              "11    4.68  298.125000  189.312500  382.687500  363.500000  419.437500   \n",
              "12    4.45  290.733333  211.400000  386.400000  361.600000  421.666667   \n",
              "13    5.00  505.866667  184.266667  547.866667  337.933333  460.666667   \n",
              "14    4.94  270.000000  184.187500  356.125000  330.375000  399.937500   \n",
              "\n",
              "            v6          v7           v8 sample_type  \n",
              "0   359.062500  730.125000  3859.062500       lab 2  \n",
              "1   223.875000  726.687500  4589.062500       lab 1  \n",
              "2   250.062500  758.875000  4491.062500       lab 1  \n",
              "3   195.066667  704.200000  4470.333333       lab 1  \n",
              "4   192.687500  632.625000  4709.375000       lab 2  \n",
              "5   222.562500  754.562500  4806.625000       lab 1  \n",
              "6   415.375000  738.125000  3836.812500       lab 2  \n",
              "7   355.625000  706.375000  3873.000000       lab 2  \n",
              "8   197.500000  655.062500  4601.187500       lab 2  \n",
              "9   200.187500  659.687500  4189.625000       lab 1  \n",
              "10  204.733333  690.333333  4255.200000       lab 1  \n",
              "11  219.000000  694.375000  4801.187500       lab 1  \n",
              "12  236.333333  725.000000  4557.866667       lab 1  \n",
              "13  196.333333  596.400000  4430.066667       lab 2  \n",
              "14  219.062500  679.750000  3961.625000       lab 1  "
            ]
          },
          "execution_count": 19,
          "metadata": {},
          "output_type": "execute_result"
        }
      ],
      "source": [
        "\n",
        "# Reset Index \n",
        "\n",
        "data_new.reset_index(drop=True, inplace=True) \n",
        "data_inf.reset_index(drop=True, inplace=True)\n",
        "data_inf"
      ]
    },
    {
      "cell_type": "code",
      "execution_count": 20,
      "metadata": {
        "colab": {
          "base_uri": "https://localhost:8080/",
          "height": 423
        },
        "id": "EizAC0RYuaiY",
        "outputId": "402455d3-bb8d-4c2b-f4b0-6ffe302417eb"
      },
      "outputs": [
        {
          "data": {
            "text/html": [
              "<div>\n",
              "<style scoped>\n",
              "    .dataframe tbody tr th:only-of-type {\n",
              "        vertical-align: middle;\n",
              "    }\n",
              "\n",
              "    .dataframe tbody tr th {\n",
              "        vertical-align: top;\n",
              "    }\n",
              "\n",
              "    .dataframe thead th {\n",
              "        text-align: right;\n",
              "    }\n",
              "</style>\n",
              "<table border=\"1\" class=\"dataframe\">\n",
              "  <thead>\n",
              "    <tr style=\"text-align: right;\">\n",
              "      <th></th>\n",
              "      <th>target</th>\n",
              "      <th>v1</th>\n",
              "      <th>v2</th>\n",
              "      <th>v3</th>\n",
              "      <th>v4</th>\n",
              "      <th>v5</th>\n",
              "      <th>v6</th>\n",
              "      <th>v7</th>\n",
              "      <th>v8</th>\n",
              "      <th>sample_type</th>\n",
              "    </tr>\n",
              "  </thead>\n",
              "  <tbody>\n",
              "    <tr>\n",
              "      <th>0</th>\n",
              "      <td>4.63</td>\n",
              "      <td>260.600000</td>\n",
              "      <td>199.000000</td>\n",
              "      <td>391.333333</td>\n",
              "      <td>371.733333</td>\n",
              "      <td>466.800000</td>\n",
              "      <td>273.133333</td>\n",
              "      <td>742.066667</td>\n",
              "      <td>4047.733333</td>\n",
              "      <td>lab 1</td>\n",
              "    </tr>\n",
              "    <tr>\n",
              "      <th>1</th>\n",
              "      <td>5.00</td>\n",
              "      <td>263.200000</td>\n",
              "      <td>194.600000</td>\n",
              "      <td>393.666667</td>\n",
              "      <td>348.533333</td>\n",
              "      <td>401.800000</td>\n",
              "      <td>220.066667</td>\n",
              "      <td>712.000000</td>\n",
              "      <td>4673.466667</td>\n",
              "      <td>lab 1</td>\n",
              "    </tr>\n",
              "    <tr>\n",
              "      <th>2</th>\n",
              "      <td>4.91</td>\n",
              "      <td>247.266667</td>\n",
              "      <td>205.800000</td>\n",
              "      <td>375.466667</td>\n",
              "      <td>354.866667</td>\n",
              "      <td>419.000000</td>\n",
              "      <td>222.133333</td>\n",
              "      <td>677.200000</td>\n",
              "      <td>4386.800000</td>\n",
              "      <td>lab 1</td>\n",
              "    </tr>\n",
              "    <tr>\n",
              "      <th>3</th>\n",
              "      <td>4.77</td>\n",
              "      <td>257.944444</td>\n",
              "      <td>191.833333</td>\n",
              "      <td>368.722222</td>\n",
              "      <td>334.666667</td>\n",
              "      <td>417.222222</td>\n",
              "      <td>195.944444</td>\n",
              "      <td>678.555556</td>\n",
              "      <td>4588.777778</td>\n",
              "      <td>lab 1</td>\n",
              "    </tr>\n",
              "    <tr>\n",
              "      <th>4</th>\n",
              "      <td>4.89</td>\n",
              "      <td>258.200000</td>\n",
              "      <td>195.733333</td>\n",
              "      <td>356.666667</td>\n",
              "      <td>333.333333</td>\n",
              "      <td>394.600000</td>\n",
              "      <td>196.000000</td>\n",
              "      <td>677.133333</td>\n",
              "      <td>4867.066667</td>\n",
              "      <td>lab 1</td>\n",
              "    </tr>\n",
              "    <tr>\n",
              "      <th>...</th>\n",
              "      <td>...</td>\n",
              "      <td>...</td>\n",
              "      <td>...</td>\n",
              "      <td>...</td>\n",
              "      <td>...</td>\n",
              "      <td>...</td>\n",
              "      <td>...</td>\n",
              "      <td>...</td>\n",
              "      <td>...</td>\n",
              "      <td>...</td>\n",
              "    </tr>\n",
              "    <tr>\n",
              "      <th>140</th>\n",
              "      <td>4.79</td>\n",
              "      <td>624.200000</td>\n",
              "      <td>377.666667</td>\n",
              "      <td>645.666667</td>\n",
              "      <td>486.733333</td>\n",
              "      <td>699.733333</td>\n",
              "      <td>364.400000</td>\n",
              "      <td>734.200000</td>\n",
              "      <td>3741.266667</td>\n",
              "      <td>lab 2</td>\n",
              "    </tr>\n",
              "    <tr>\n",
              "      <th>141</th>\n",
              "      <td>4.83</td>\n",
              "      <td>573.250000</td>\n",
              "      <td>361.250000</td>\n",
              "      <td>643.125000</td>\n",
              "      <td>489.812500</td>\n",
              "      <td>666.875000</td>\n",
              "      <td>355.250000</td>\n",
              "      <td>712.312500</td>\n",
              "      <td>3943.687500</td>\n",
              "      <td>lab 2</td>\n",
              "    </tr>\n",
              "    <tr>\n",
              "      <th>142</th>\n",
              "      <td>4.47</td>\n",
              "      <td>678.375000</td>\n",
              "      <td>398.125000</td>\n",
              "      <td>678.250000</td>\n",
              "      <td>541.125000</td>\n",
              "      <td>704.000000</td>\n",
              "      <td>393.500000</td>\n",
              "      <td>788.812500</td>\n",
              "      <td>3928.187500</td>\n",
              "      <td>lab 2</td>\n",
              "    </tr>\n",
              "    <tr>\n",
              "      <th>143</th>\n",
              "      <td>4.63</td>\n",
              "      <td>634.000000</td>\n",
              "      <td>382.866667</td>\n",
              "      <td>657.466667</td>\n",
              "      <td>505.066667</td>\n",
              "      <td>719.200000</td>\n",
              "      <td>366.600000</td>\n",
              "      <td>792.133333</td>\n",
              "      <td>3861.200000</td>\n",
              "      <td>lab 2</td>\n",
              "    </tr>\n",
              "    <tr>\n",
              "      <th>144</th>\n",
              "      <td>4.43</td>\n",
              "      <td>575.200000</td>\n",
              "      <td>350.266667</td>\n",
              "      <td>648.333333</td>\n",
              "      <td>495.400000</td>\n",
              "      <td>679.800000</td>\n",
              "      <td>346.266667</td>\n",
              "      <td>718.733333</td>\n",
              "      <td>3903.333333</td>\n",
              "      <td>lab 2</td>\n",
              "    </tr>\n",
              "  </tbody>\n",
              "</table>\n",
              "<p>145 rows × 10 columns</p>\n",
              "</div>"
            ],
            "text/plain": [
              "     target          v1          v2          v3          v4          v5  \\\n",
              "0      4.63  260.600000  199.000000  391.333333  371.733333  466.800000   \n",
              "1      5.00  263.200000  194.600000  393.666667  348.533333  401.800000   \n",
              "2      4.91  247.266667  205.800000  375.466667  354.866667  419.000000   \n",
              "3      4.77  257.944444  191.833333  368.722222  334.666667  417.222222   \n",
              "4      4.89  258.200000  195.733333  356.666667  333.333333  394.600000   \n",
              "..      ...         ...         ...         ...         ...         ...   \n",
              "140    4.79  624.200000  377.666667  645.666667  486.733333  699.733333   \n",
              "141    4.83  573.250000  361.250000  643.125000  489.812500  666.875000   \n",
              "142    4.47  678.375000  398.125000  678.250000  541.125000  704.000000   \n",
              "143    4.63  634.000000  382.866667  657.466667  505.066667  719.200000   \n",
              "144    4.43  575.200000  350.266667  648.333333  495.400000  679.800000   \n",
              "\n",
              "             v6          v7           v8 sample_type  \n",
              "0    273.133333  742.066667  4047.733333       lab 1  \n",
              "1    220.066667  712.000000  4673.466667       lab 1  \n",
              "2    222.133333  677.200000  4386.800000       lab 1  \n",
              "3    195.944444  678.555556  4588.777778       lab 1  \n",
              "4    196.000000  677.133333  4867.066667       lab 1  \n",
              "..          ...         ...          ...         ...  \n",
              "140  364.400000  734.200000  3741.266667       lab 2  \n",
              "141  355.250000  712.312500  3943.687500       lab 2  \n",
              "142  393.500000  788.812500  3928.187500       lab 2  \n",
              "143  366.600000  792.133333  3861.200000       lab 2  \n",
              "144  346.266667  718.733333  3903.333333       lab 2  \n",
              "\n",
              "[145 rows x 10 columns]"
            ]
          },
          "execution_count": 20,
          "metadata": {},
          "output_type": "execute_result"
        }
      ],
      "source": [
        "data_new"
      ]
    },
    {
      "attachments": {},
      "cell_type": "markdown",
      "metadata": {},
      "source": [
        "### Spliting Data into Train and Test set "
      ]
    },
    {
      "cell_type": "code",
      "execution_count": 21,
      "metadata": {
        "id": "o9LLZ-uNucVo"
      },
      "outputs": [],
      "source": [
        "fitur = data_new.drop('target', axis=1)\n",
        "target = data_new['target']"
      ]
    },
    {
      "cell_type": "code",
      "execution_count": 22,
      "metadata": {
        "colab": {
          "base_uri": "https://localhost:8080/"
        },
        "id": "mh8QTJnyunt9",
        "outputId": "32701d13-99b7-4724-e4c1-07a31f06b7b1"
      },
      "outputs": [
        {
          "name": "stdout",
          "output_type": "stream",
          "text": [
            "(116, 9)\n",
            "(29, 9)\n",
            "(116,)\n",
            "(29,)\n"
          ]
        }
      ],
      "source": [
        "x_train, x_test,  y_train, y_test = train_test_split(fitur,target,shuffle=False, test_size=0.2,random_state=42)\n",
        "print(x_train.shape)\n",
        "print(x_test.shape)\n",
        "print(y_train.shape)\n",
        "print(y_test.shape)"
      ]
    },
    {
      "cell_type": "code",
      "execution_count": 23,
      "metadata": {
        "id": "aCGGsdm43Crq"
      },
      "outputs": [],
      "source": [
        "data_eda = pd.concat([x_train, y_train], axis=1)"
      ]
    },
    {
      "attachments": {},
      "cell_type": "markdown",
      "metadata": {},
      "source": [
        "Split into numerical and categorical data "
      ]
    },
    {
      "cell_type": "code",
      "execution_count": 24,
      "metadata": {
        "id": "DCJ-75yT7NOd"
      },
      "outputs": [],
      "source": [
        "nums = data_eda[['target','v1','v2','v3','v4','v5','v6','v7','v8']].columns.tolist()\n",
        "cats = data_eda[['sample_type']].columns.tolist()"
      ]
    },
    {
      "attachments": {},
      "cell_type": "markdown",
      "metadata": {},
      "source": [
        "We will see the skewness of numerical feature"
      ]
    },
    {
      "cell_type": "code",
      "execution_count": 25,
      "metadata": {
        "colab": {
          "base_uri": "https://localhost:8080/",
          "height": 331
        },
        "id": "fSnPBK9Z0RN4",
        "outputId": "40bc8924-1dcc-470f-9f9d-6463958d55fc"
      },
      "outputs": [
        {
          "data": {
            "text/html": [
              "<div>\n",
              "<style scoped>\n",
              "    .dataframe tbody tr th:only-of-type {\n",
              "        vertical-align: middle;\n",
              "    }\n",
              "\n",
              "    .dataframe tbody tr th {\n",
              "        vertical-align: top;\n",
              "    }\n",
              "\n",
              "    .dataframe thead th {\n",
              "        text-align: right;\n",
              "    }\n",
              "</style>\n",
              "<table border=\"1\" class=\"dataframe\">\n",
              "  <thead>\n",
              "    <tr style=\"text-align: right;\">\n",
              "      <th></th>\n",
              "      <th>skewness</th>\n",
              "    </tr>\n",
              "  </thead>\n",
              "  <tbody>\n",
              "    <tr>\n",
              "      <th>target</th>\n",
              "      <td>0.121651</td>\n",
              "    </tr>\n",
              "    <tr>\n",
              "      <th>v1</th>\n",
              "      <td>1.250424</td>\n",
              "    </tr>\n",
              "    <tr>\n",
              "      <th>v2</th>\n",
              "      <td>1.388351</td>\n",
              "    </tr>\n",
              "    <tr>\n",
              "      <th>v3</th>\n",
              "      <td>1.194871</td>\n",
              "    </tr>\n",
              "    <tr>\n",
              "      <th>v4</th>\n",
              "      <td>0.655152</td>\n",
              "    </tr>\n",
              "    <tr>\n",
              "      <th>v5</th>\n",
              "      <td>0.220314</td>\n",
              "    </tr>\n",
              "    <tr>\n",
              "      <th>v6</th>\n",
              "      <td>1.206743</td>\n",
              "    </tr>\n",
              "    <tr>\n",
              "      <th>v7</th>\n",
              "      <td>0.065579</td>\n",
              "    </tr>\n",
              "    <tr>\n",
              "      <th>v8</th>\n",
              "      <td>-0.406429</td>\n",
              "    </tr>\n",
              "  </tbody>\n",
              "</table>\n",
              "</div>"
            ],
            "text/plain": [
              "        skewness\n",
              "target  0.121651\n",
              "v1      1.250424\n",
              "v2      1.388351\n",
              "v3      1.194871\n",
              "v4      0.655152\n",
              "v5      0.220314\n",
              "v6      1.206743\n",
              "v7      0.065579\n",
              "v8     -0.406429"
            ]
          },
          "execution_count": 25,
          "metadata": {},
          "output_type": "execute_result"
        }
      ],
      "source": [
        "\n",
        "skew = data_eda[nums].skew()\n",
        "nilai_skew = pd.DataFrame(skew)\n",
        "nilai_skew.columns =['skewness']\n",
        "\n",
        "nilai_skew"
      ]
    },
    {
      "attachments": {},
      "cell_type": "markdown",
      "metadata": {},
      "source": [
        "According to the skewness value , the dataset contains the distributions has skew, lets see the visualizations"
      ]
    },
    {
      "cell_type": "code",
      "execution_count": 26,
      "metadata": {
        "id": "xl1L1ns-7Z26"
      },
      "outputs": [],
      "source": [
        "numerical = data_eda[nums]"
      ]
    },
    {
      "cell_type": "code",
      "execution_count": 27,
      "metadata": {
        "id": "EaEACRSg2SeP"
      },
      "outputs": [],
      "source": [
        "\n",
        "def diagnostic_plots(numerical, variable):\n",
        "    # Define figure size\n",
        "    plt.figure(figsize=(16, 4))\n",
        "\n",
        "    # Histogram\n",
        "    plt.subplot(1, 2, 1)\n",
        "    sns.histplot(numerical[variable], bins=30)\n",
        "    plt.title('Histogram')\n",
        "\n",
        "    # Boxplot\n",
        "    plt.subplot(1, 2, 2)\n",
        "    sns.boxplot(y=data_eda[variable])\n",
        "    plt.title('Boxplot')\n",
        "\n",
        "    plt.show()"
      ]
    },
    {
      "cell_type": "code",
      "execution_count": 28,
      "metadata": {
        "colab": {
          "base_uri": "https://localhost:8080/",
          "height": 1000
        },
        "id": "wxN-5J2m5RG1",
        "outputId": "3f16a489-cc68-4a8e-99cf-8a22614b3990"
      },
      "outputs": [
        {
          "data": {
            "image/png": "[encoded data removed]",
            "text/plain": [
              "<Figure size 1600x400 with 2 Axes>"
            ]
          },
          "metadata": {},
          "output_type": "display_data"
        },
        {
          "data": {
            "image/png": "[encoded data removed]",
            "text/plain": [
              "<Figure size 1600x400 with 2 Axes>"
            ]
          },
          "metadata": {},
          "output_type": "display_data"
        },
        {
          "data": {
            "image/png": "[encoded data removed]",
            "text/plain": [
              "<Figure size 1600x400 with 2 Axes>"
            ]
          },
          "metadata": {},
          "output_type": "display_data"
        },
        {
          "data": {
            "image/png": "[encoded data removed]",
            "text/plain": [
              "<Figure size 1600x400 with 2 Axes>"
            ]
          },
          "metadata": {},
          "output_type": "display_data"
        },
        {
          "data": {
            "image/png": "[encoded data removed]",
            "text/plain": [
              "<Figure size 1600x400 with 2 Axes>"
            ]
          },
          "metadata": {},
          "output_type": "display_data"
        },
        {
          "data": {
            "image/png": "[encoded data removed]",
            "text/plain": [
              "<Figure size 1600x400 with 2 Axes>"
            ]
          },
          "metadata": {},
          "output_type": "display_data"
        },
        {
          "data": {
            "image/png": "[encoded data removed]",
            "text/plain": [
              "<Figure size 1600x400 with 2 Axes>"
            ]
          },
          "metadata": {},
          "output_type": "display_data"
        },
        {
          "data": {
            "image/png": "[encoded data removed]",
            "text/plain": [
              "<Figure size 1600x400 with 2 Axes>"
            ]
          },
          "metadata": {},
          "output_type": "display_data"
        },
        {
          "data": {
            "image/png": "[encoded data removed]",
            "text/plain": [
              "<Figure size 1600x400 with 2 Axes>"
            ]
          },
          "metadata": {},
          "output_type": "display_data"
        }
      ],
      "source": [
        "diagnostic_plots(numerical, 'target')\n",
        "diagnostic_plots(numerical, 'v1')\n",
        "diagnostic_plots(numerical, 'v2')\n",
        "diagnostic_plots(numerical, 'v3')\n",
        "diagnostic_plots(numerical, 'v4')\n",
        "diagnostic_plots(numerical, 'v5')\n",
        "diagnostic_plots(numerical, 'v6')\n",
        "diagnostic_plots(numerical, 'v7')\n",
        "diagnostic_plots(numerical, 'v8')\n"
      ]
    },
    {
      "attachments": {},
      "cell_type": "markdown",
      "metadata": {},
      "source": [
        "Checking the outlier"
      ]
    },
    {
      "cell_type": "code",
      "execution_count": 29,
      "metadata": {
        "colab": {
          "base_uri": "https://localhost:8080/"
        },
        "id": "yfd1ioGA6A_J",
        "outputId": "eb43eea9-29c7-4e7a-9c3a-0406198ff256"
      },
      "outputs": [
        {
          "name": "stdout",
          "output_type": "stream",
          "text": [
            "target\n",
            "count of outlier:  0\n",
            "percent k of outlier:  0.0 %\n",
            "======================================================================\n",
            "v1\n",
            "count of outlier:  25\n",
            "percent k of outlier:  21.551724137931032 %\n",
            "======================================================================\n",
            "v2\n",
            "count of outlier:  13\n",
            "percent k of outlier:  11.206896551724139 %\n",
            "======================================================================\n",
            "v3\n",
            "count of outlier:  24\n",
            "percent k of outlier:  20.689655172413794 %\n",
            "======================================================================\n",
            "v4\n",
            "count of outlier:  10\n",
            "percent k of outlier:  8.620689655172415 %\n",
            "======================================================================\n",
            "v5\n",
            "count of outlier:  0\n",
            "percent k of outlier:  0.0 %\n",
            "======================================================================\n",
            "v6\n",
            "count of outlier:  4\n",
            "percent k of outlier:  3.4482758620689653 %\n",
            "======================================================================\n",
            "v7\n",
            "count of outlier:  0\n",
            "percent k of outlier:  0.0 %\n",
            "======================================================================\n",
            "v8\n",
            "count of outlier:  4\n",
            "percent k of outlier:  3.4482758620689653 %\n",
            "======================================================================\n"
          ]
        }
      ],
      "source": [
        "for k in numerical:\n",
        "  Q3 = numerical[k].quantile(.75)\n",
        "  Q1 = numerical[k].quantile(.25)\n",
        "\n",
        "  IQR = Q3 - Q1\n",
        "\n",
        "  upper = Q3 + (1.5 * IQR)\n",
        "  lower = Q1 - (1.5 * IQR)\n",
        "\n",
        "  outlier = numerical[(numerical[k] > upper) | (numerical[k] < lower)]\n",
        "  print(k)\n",
        "  print('count of outlier: ', outlier.shape[0])\n",
        "  print('percent k of outlier: ', outlier.shape[0]/numerical.shape[0] * 100, '%')\n",
        "  print('='*70)"
      ]
    },
    {
      "attachments": {},
      "cell_type": "markdown",
      "metadata": {},
      "source": [
        "there are some outlier in the several column, we will capping it in the next section , because the regression is sensitif about the outlier so we will handle it. "
      ]
    },
    {
      "attachments": {},
      "cell_type": "markdown",
      "metadata": {},
      "source": [
        "### Feature Selection"
      ]
    },
    {
      "attachments": {},
      "cell_type": "markdown",
      "metadata": {},
      "source": [
        "#### Heatmap "
      ]
    },
    {
      "cell_type": "code",
      "execution_count": 27,
      "metadata": {
        "colab": {
          "base_uri": "https://localhost:8080/",
          "height": 596
        },
        "id": "f6iPOMkAFM1b",
        "outputId": "495085b8-d2cc-4610-e22c-1bd5b2fa4579"
      },
      "outputs": [
        {
          "data": {
            "image/png": "[encoded data removed]",
            "text/plain": [
              "<Figure size 2000x1000 with 2 Axes>"
            ]
          },
          "metadata": {},
          "output_type": "display_data"
        }
      ],
      "source": [
        "fig,ax = plt.subplots(figsize=[20,10])\n",
        "\n",
        "corr = data_eda.corr()\n",
        "\n",
        "ax = sns.heatmap(corr,annot=True,fmt='.2f')\n",
        "plt.show()"
      ]
    },
    {
      "attachments": {},
      "cell_type": "markdown",
      "metadata": {},
      "source": [
        "The result from heatmap :\n",
        "- the relation between variabel and target is weak, only v1,v3,v6,v7 which have rasult more than 0.1. We will consider it, and compare with another feature selection tools.\n",
        "- there is multicollinearity  between v1 and v3 which have corelation value 0.98, also v2 and v4 have corelation about 0.85, and v6 and v2 have correlation about 80. We will consider to not to use both among them, because multicolenarity make the dependencies between the variable. "
      ]
    },
    {
      "attachments": {},
      "cell_type": "markdown",
      "metadata": {
        "id": "FycjjTPvFe5v"
      },
      "source": [
        "#### feature Importances"
      ]
    },
    {
      "attachments": {},
      "cell_type": "markdown",
      "metadata": {},
      "source": [
        "We will use feature importances from Random Forest Regressor "
      ]
    },
    {
      "cell_type": "code",
      "execution_count": 30,
      "metadata": {
        "id": "UCiLhlqyGlHi"
      },
      "outputs": [],
      "source": [
        "# split x dan y \n",
        "X_select = x_train.drop('sample_type',axis=1).copy()\n"
      ]
    },
    {
      "cell_type": "code",
      "execution_count": 31,
      "metadata": {
        "colab": {
          "base_uri": "https://localhost:8080/",
          "height": 413
        },
        "id": "A7m4-mKJGBuA",
        "outputId": "9c384946-e88a-4175-d616-a87dabb4ae98"
      },
      "outputs": [
        {
          "name": "stdout",
          "output_type": "stream",
          "text": [
            "Feature: 0, Score: 0.08\n",
            "Feature: 1, Score: 0.12\n",
            "Feature: 2, Score: 0.12\n",
            "Feature: 3, Score: 0.07\n",
            "Feature: 4, Score: 0.14\n",
            "Feature: 5, Score: 0.13\n",
            "Feature: 6, Score: 0.22\n",
            "Feature: 7, Score: 0.13\n"
          ]
        },
        {
          "data": {
            "image/png": "[encoded data removed]",
            "text/plain": [
              "<Figure size 640x480 with 1 Axes>"
            ]
          },
          "metadata": {},
          "output_type": "display_data"
        }
      ],
      "source": [
        "X, y = X_select, y_train\n",
        "model = RandomForestRegressor()\n",
        "model.fit(X, y)\n",
        "importance = model.feature_importances_\n",
        "for i,v in enumerate(importance):\n",
        "    print('Feature: %0d, Score: %.2f' % (i,v))\n",
        "plt.bar([x for x in range(len(importance))], importance)\n",
        "plt.show()"
      ]
    },
    {
      "attachments": {},
      "cell_type": "markdown",
      "metadata": {},
      "source": [
        "We set the threshold > 0.1, so we will take v2,v3,v5,v6,v7,v8. "
      ]
    },
    {
      "attachments": {},
      "cell_type": "markdown",
      "metadata": {},
      "source": [
        "Next, we will use feature importances from Decission Tree regressor "
      ]
    },
    {
      "cell_type": "code",
      "execution_count": 32,
      "metadata": {
        "colab": {
          "base_uri": "https://localhost:8080/",
          "height": 413
        },
        "id": "yvIXIDNfIAWV",
        "outputId": "97fdfad2-219f-4767-c957-596e5044d31a"
      },
      "outputs": [
        {
          "name": "stdout",
          "output_type": "stream",
          "text": [
            "Feature: 0, Score: 0.04\n",
            "Feature: 1, Score: 0.14\n",
            "Feature: 2, Score: 0.07\n",
            "Feature: 3, Score: 0.14\n",
            "Feature: 4, Score: 0.12\n",
            "Feature: 5, Score: 0.16\n",
            "Feature: 6, Score: 0.22\n",
            "Feature: 7, Score: 0.11\n"
          ]
        },
        {
          "data": {
            "image/png": "[encoded data removed]",
            "text/plain": [
              "<Figure size 640x480 with 1 Axes>"
            ]
          },
          "metadata": {},
          "output_type": "display_data"
        }
      ],
      "source": [
        "X, y = X_select, y_train\n",
        "model = DecisionTreeRegressor()\n",
        "model.fit(X, y)\n",
        "importance = model.feature_importances_\n",
        "for i,v in enumerate(importance):\n",
        "    print('Feature: %0d, Score: %.2f' % (i,v))\n",
        "plt.bar([x for x in range(len(importance))], importance)\n",
        "plt.show()"
      ]
    },
    {
      "attachments": {},
      "cell_type": "markdown",
      "metadata": {},
      "source": [
        "We have the same threshold > 0.1, we will take v2,v4,v5,v6,v7,v8"
      ]
    },
    {
      "attachments": {},
      "cell_type": "markdown",
      "metadata": {},
      "source": [
        "#### ANOVA"
      ]
    },
    {
      "attachments": {},
      "cell_type": "markdown",
      "metadata": {},
      "source": [
        "Select features according to the k highest scores"
      ]
    },
    {
      "cell_type": "code",
      "execution_count": 35,
      "metadata": {
        "colab": {
          "base_uri": "https://localhost:8080/"
        },
        "id": "--dtGyAIIjs6",
        "outputId": "439cc16d-4e95-4867-f28a-16980a377856"
      },
      "outputs": [
        {
          "data": {
            "text/plain": [
              "array([1.71091273, 0.95911124, 1.8012746 , 1.34702118, 1.60458101,\n",
              "       1.75453146, 1.21388721, 0.90120264])"
            ]
          },
          "execution_count": 35,
          "metadata": {},
          "output_type": "execute_result"
        }
      ],
      "source": [
        "\n",
        "f_test = SelectKBest(score_func=f_classif, k=3)\n",
        "fit = f_test.fit(X_select, y_train)\n",
        "fit.scores_"
      ]
    },
    {
      "cell_type": "code",
      "execution_count": 36,
      "metadata": {
        "colab": {
          "base_uri": "https://localhost:8080/"
        },
        "id": "_jQwgD25IweV",
        "outputId": "bd30484c-1044-474d-ed0a-edafa53ffdf2"
      },
      "outputs": [
        {
          "data": {
            "text/plain": [
              "array([2., 1., 2., 1., 2., 2., 1., 1.])"
            ]
          },
          "execution_count": 36,
          "metadata": {},
          "output_type": "execute_result"
        }
      ],
      "source": [
        "np.round_(fit.scores_)"
      ]
    },
    {
      "cell_type": "code",
      "execution_count": 37,
      "metadata": {
        "colab": {
          "base_uri": "https://localhost:8080/"
        },
        "id": "O3v9ymTyIz_H",
        "outputId": "39101bc0-eb6c-419e-cc7c-e1b42982d6ee"
      },
      "outputs": [
        {
          "data": {
            "text/plain": [
              "v3    1.801275\n",
              "v6    1.754531\n",
              "v1    1.710913\n",
              "v5    1.604581\n",
              "v4    1.347021\n",
              "v7    1.213887\n",
              "v2    0.959111\n",
              "v8    0.901203\n",
              "dtype: float64"
            ]
          },
          "execution_count": 37,
          "metadata": {},
          "output_type": "execute_result"
        }
      ],
      "source": [
        "result = pd.Series(fit.scores_)\n",
        "result.index = X_select.columns\n",
        "result.sort_values(ascending=False)"
      ]
    },
    {
      "attachments": {},
      "cell_type": "markdown",
      "metadata": {},
      "source": [
        "We will use the k above 1, we weill choose v1,v3,v4,v5,v6,v7"
      ]
    },
    {
      "attachments": {},
      "cell_type": "markdown",
      "metadata": {},
      "source": [
        "After comparing from the 4 tools that we used before, we choose the feature below:\n",
        "\n",
        "v3,v5,v6,v7 and sample_type. \n"
      ]
    },
    {
      "attachments": {},
      "cell_type": "markdown",
      "metadata": {
        "id": "rzastj4lKwsZ"
      },
      "source": [
        "### Pipeline\n"
      ]
    },
    {
      "attachments": {},
      "cell_type": "markdown",
      "metadata": {},
      "source": [
        "We use winsorizer with capping method iqr and fold 1.5 because the distribution was skew and the skewness is near 1, not too big. And for the scaler we use minmax scaler because we follow the distribution. For the categorical features we use ordinal encoder for sample type. And applying pipeline to feature that has been selected."
      ]
    },
    {
      "cell_type": "code",
      "execution_count": 38,
      "metadata": {
        "id": "w8VwmheZK-oD"
      },
      "outputs": [],
      "source": [
        "num_pipeline = Pipeline([\n",
        "        ('outlier' , Winsorizer(capping_method='iqr', tail='both', fold=1.5,variables=['v3','v6'])),\n",
        "        ('scaler', MinMaxScaler())\n",
        "    ])\n",
        "\n",
        "sample_type = ['lab 1','lab 2']\n",
        "cat_pipeline = Pipeline([\n",
        "        ('ord_enc', OrdinalEncoder(categories=[sample_type])) \n",
        "    ])\n"
      ]
    },
    {
      "cell_type": "code",
      "execution_count": 39,
      "metadata": {
        "colab": {
          "base_uri": "https://localhost:8080/",
          "height": 153
        },
        "id": "eTxbBzk2LH9H",
        "outputId": "bf674a37-0e6e-40b5-f3e7-8f269a123412"
      },
      "outputs": [
        {
          "data": {
            "text/html": [
              "<style>#sk-container-id-1 {color: black;background-color: white;}#sk-container-id-1 pre{padding: 0;}#sk-container-id-1 div.sk-toggleable {background-color: white;}#sk-container-id-1 label.sk-toggleable__label {cursor: pointer;display: block;width: 100%;margin-bottom: 0;padding: 0.3em;box-sizing: border-box;text-align: center;}#sk-container-id-1 label.sk-toggleable__label-arrow:before {content: \"▸\";float: left;margin-right: 0.25em;color: #696969;}#sk-container-id-1 label.sk-toggleable__label-arrow:hover:before {color: black;}#sk-container-id-1 div.sk-estimator:hover label.sk-toggleable__label-arrow:before {color: black;}#sk-container-id-1 div.sk-toggleable__content {max-height: 0;max-width: 0;overflow: hidden;text-align: left;background-color: #f0f8ff;}#sk-container-id-1 div.sk-toggleable__content pre {margin: 0.2em;color: black;border-radius: 0.25em;background-color: #f0f8ff;}#sk-container-id-1 input.sk-toggleable__control:checked~div.sk-toggleable__content {max-height: 200px;max-width: 100%;overflow: auto;}#sk-container-id-1 input.sk-toggleable__control:checked~label.sk-toggleable__label-arrow:before {content: \"▾\";}#sk-container-id-1 div.sk-estimator input.sk-toggleable__control:checked~label.sk-toggleable__label {background-color: #d4ebff;}#sk-container-id-1 div.sk-label input.sk-toggleable__control:checked~label.sk-toggleable__label {background-color: #d4ebff;}#sk-container-id-1 input.sk-hidden--visually {border: 0;clip: rect(1px 1px 1px 1px);clip: rect(1px, 1px, 1px, 1px);height: 1px;margin: -1px;overflow: hidden;padding: 0;position: absolute;width: 1px;}#sk-container-id-1 div.sk-estimator {font-family: monospace;background-color: #f0f8ff;border: 1px dotted black;border-radius: 0.25em;box-sizing: border-box;margin-bottom: 0.5em;}#sk-container-id-1 div.sk-estimator:hover {background-color: #d4ebff;}#sk-container-id-1 div.sk-parallel-item::after {content: \"\";width: 100%;border-bottom: 1px solid gray;flex-grow: 1;}#sk-container-id-1 div.sk-label:hover label.sk-toggleable__label {background-color: #d4ebff;}#sk-container-id-1 div.sk-serial::before {content: \"\";position: absolute;border-left: 1px solid gray;box-sizing: border-box;top: 0;bottom: 0;left: 50%;z-index: 0;}#sk-container-id-1 div.sk-serial {display: flex;flex-direction: column;align-items: center;background-color: white;padding-right: 0.2em;padding-left: 0.2em;position: relative;}#sk-container-id-1 div.sk-item {position: relative;z-index: 1;}#sk-container-id-1 div.sk-parallel {display: flex;align-items: stretch;justify-content: center;background-color: white;position: relative;}#sk-container-id-1 div.sk-item::before, #sk-container-id-1 div.sk-parallel-item::before {content: \"\";position: absolute;border-left: 1px solid gray;box-sizing: border-box;top: 0;bottom: 0;left: 50%;z-index: -1;}#sk-container-id-1 div.sk-parallel-item {display: flex;flex-direction: column;z-index: 1;position: relative;background-color: white;}#sk-container-id-1 div.sk-parallel-item:first-child::after {align-self: flex-end;width: 50%;}#sk-container-id-1 div.sk-parallel-item:last-child::after {align-self: flex-start;width: 50%;}#sk-container-id-1 div.sk-parallel-item:only-child::after {width: 0;}#sk-container-id-1 div.sk-dashed-wrapped {border: 1px dashed gray;margin: 0 0.4em 0.5em 0.4em;box-sizing: border-box;padding-bottom: 0.4em;background-color: white;}#sk-container-id-1 div.sk-label label {font-family: monospace;font-weight: bold;display: inline-block;line-height: 1.2em;}#sk-container-id-1 div.sk-label-container {text-align: center;}#sk-container-id-1 div.sk-container {/* jupyter's `normalize.less` sets `[hidden] { display: none; }` but bootstrap.min.css set `[hidden] { display: none !important; }` so we also need the `!important` here to be able to override the default hidden behavior on the sphinx rendered scikit-learn.org. See: https://github.com/scikit-learn/scikit-learn/issues/21755 */display: inline-block !important;position: relative;}#sk-container-id-1 div.sk-text-repr-fallback {display: none;}</style><div id=\"sk-container-id-1\" class=\"sk-top-container\"><div class=\"sk-text-repr-fallback\"><pre>ColumnTransformer(transformers=[(&#x27;num&#x27;,\n",
              "                                 Pipeline(steps=[(&#x27;outlier&#x27;,\n",
              "                                                  Winsorizer(capping_method=&#x27;iqr&#x27;,\n",
              "                                                             fold=1.5,\n",
              "                                                             tail=&#x27;both&#x27;,\n",
              "                                                             variables=[&#x27;v3&#x27;,\n",
              "                                                                        &#x27;v6&#x27;])),\n",
              "                                                 (&#x27;scaler&#x27;, MinMaxScaler())]),\n",
              "                                 [&#x27;v3&#x27;, &#x27;v5&#x27;, &#x27;v6&#x27;, &#x27;v7&#x27;]),\n",
              "                                (&#x27;cat_ord&#x27;,\n",
              "                                 Pipeline(steps=[(&#x27;ord_enc&#x27;,\n",
              "                                                  OrdinalEncoder(categories=[[&#x27;lab &#x27;\n",
              "                                                                              &#x27;1&#x27;,\n",
              "                                                                              &#x27;lab &#x27;\n",
              "                                                                              &#x27;2&#x27;]]))]),\n",
              "                                 [&#x27;sample_type&#x27;])],\n",
              "                  verbose=True)</pre><b>In a Jupyter environment, please rerun this cell to show the HTML representation or trust the notebook. <br />On GitHub, the HTML representation is unable to render, please try loading this page with nbviewer.org.</b></div><div class=\"sk-container\" hidden><div class=\"sk-item sk-dashed-wrapped\"><div class=\"sk-label-container\"><div class=\"sk-label sk-toggleable\"><input class=\"sk-toggleable__control sk-hidden--visually\" id=\"sk-estimator-id-1\" type=\"checkbox\" ><label for=\"sk-estimator-id-1\" class=\"sk-toggleable__label sk-toggleable__label-arrow\">ColumnTransformer</label><div class=\"sk-toggleable__content\"><pre>ColumnTransformer(transformers=[(&#x27;num&#x27;,\n",
              "                                 Pipeline(steps=[(&#x27;outlier&#x27;,\n",
              "                                                  Winsorizer(capping_method=&#x27;iqr&#x27;,\n",
              "                                                             fold=1.5,\n",
              "                                                             tail=&#x27;both&#x27;,\n",
              "                                                             variables=[&#x27;v3&#x27;,\n",
              "                                                                        &#x27;v6&#x27;])),\n",
              "                                                 (&#x27;scaler&#x27;, MinMaxScaler())]),\n",
              "                                 [&#x27;v3&#x27;, &#x27;v5&#x27;, &#x27;v6&#x27;, &#x27;v7&#x27;]),\n",
              "                                (&#x27;cat_ord&#x27;,\n",
              "                                 Pipeline(steps=[(&#x27;ord_enc&#x27;,\n",
              "                                                  OrdinalEncoder(categories=[[&#x27;lab &#x27;\n",
              "                                                                              &#x27;1&#x27;,\n",
              "                                                                              &#x27;lab &#x27;\n",
              "                                                                              &#x27;2&#x27;]]))]),\n",
              "                                 [&#x27;sample_type&#x27;])],\n",
              "                  verbose=True)</pre></div></div></div><div class=\"sk-parallel\"><div class=\"sk-parallel-item\"><div class=\"sk-item\"><div class=\"sk-label-container\"><div class=\"sk-label sk-toggleable\"><input class=\"sk-toggleable__control sk-hidden--visually\" id=\"sk-estimator-id-2\" type=\"checkbox\" ><label for=\"sk-estimator-id-2\" class=\"sk-toggleable__label sk-toggleable__label-arrow\">num</label><div class=\"sk-toggleable__content\"><pre>[&#x27;v3&#x27;, &#x27;v5&#x27;, &#x27;v6&#x27;, &#x27;v7&#x27;]</pre></div></div></div><div class=\"sk-serial\"><div class=\"sk-item\"><div class=\"sk-serial\"><div class=\"sk-item\"><div class=\"sk-estimator sk-toggleable\"><input class=\"sk-toggleable__control sk-hidden--visually\" id=\"sk-estimator-id-3\" type=\"checkbox\" ><label for=\"sk-estimator-id-3\" class=\"sk-toggleable__label sk-toggleable__label-arrow\">Winsorizer</label><div class=\"sk-toggleable__content\"><pre>Winsorizer(capping_method=&#x27;iqr&#x27;, fold=1.5, tail=&#x27;both&#x27;, variables=[&#x27;v3&#x27;, &#x27;v6&#x27;])</pre></div></div></div><div class=\"sk-item\"><div class=\"sk-estimator sk-toggleable\"><input class=\"sk-toggleable__control sk-hidden--visually\" id=\"sk-estimator-id-4\" type=\"checkbox\" ><label for=\"sk-estimator-id-4\" class=\"sk-toggleable__label sk-toggleable__label-arrow\">MinMaxScaler</label><div class=\"sk-toggleable__content\"><pre>MinMaxScaler()</pre></div></div></div></div></div></div></div></div><div class=\"sk-parallel-item\"><div class=\"sk-item\"><div class=\"sk-label-container\"><div class=\"sk-label sk-toggleable\"><input class=\"sk-toggleable__control sk-hidden--visually\" id=\"sk-estimator-id-5\" type=\"checkbox\" ><label for=\"sk-estimator-id-5\" class=\"sk-toggleable__label sk-toggleable__label-arrow\">cat_ord</label><div class=\"sk-toggleable__content\"><pre>[&#x27;sample_type&#x27;]</pre></div></div></div><div class=\"sk-serial\"><div class=\"sk-item\"><div class=\"sk-serial\"><div class=\"sk-item\"><div class=\"sk-estimator sk-toggleable\"><input class=\"sk-toggleable__control sk-hidden--visually\" id=\"sk-estimator-id-6\" type=\"checkbox\" ><label for=\"sk-estimator-id-6\" class=\"sk-toggleable__label sk-toggleable__label-arrow\">OrdinalEncoder</label><div class=\"sk-toggleable__content\"><pre>OrdinalEncoder(categories=[[&#x27;lab 1&#x27;, &#x27;lab 2&#x27;]])</pre></div></div></div></div></div></div></div></div></div></div></div></div>"
            ],
            "text/plain": [
              "ColumnTransformer(transformers=[('num',\n",
              "                                 Pipeline(steps=[('outlier',\n",
              "                                                  Winsorizer(capping_method='iqr',\n",
              "                                                             fold=1.5,\n",
              "                                                             tail='both',\n",
              "                                                             variables=['v3',\n",
              "                                                                        'v6'])),\n",
              "                                                 ('scaler', MinMaxScaler())]),\n",
              "                                 ['v3', 'v5', 'v6', 'v7']),\n",
              "                                ('cat_ord',\n",
              "                                 Pipeline(steps=[('ord_enc',\n",
              "                                                  OrdinalEncoder(categories=[['lab '\n",
              "                                                                              '1',\n",
              "                                                                              'lab '\n",
              "                                                                              '2']]))]),\n",
              "                                 ['sample_type'])],\n",
              "                  verbose=True)"
            ]
          },
          "execution_count": 39,
          "metadata": {},
          "output_type": "execute_result"
        }
      ],
      "source": [
        "full_pipeline = ColumnTransformer([\n",
        "        (\"num\", num_pipeline, ['v3','v5','v6','v7']),\n",
        "        (\"cat_ord\", cat_pipeline, ['sample_type']),\n",
        "        ],verbose=True)\n",
        "\n",
        "full_pipeline"
      ]
    },
    {
      "cell_type": "code",
      "execution_count": 40,
      "metadata": {
        "colab": {
          "base_uri": "https://localhost:8080/"
        },
        "id": "1mDWPeOMKeZ4",
        "outputId": "0301d596-fda0-435c-cf3a-faa0f3a65acb"
      },
      "outputs": [
        {
          "name": "stdout",
          "output_type": "stream",
          "text": [
            "[ColumnTransformer] ........... (1 of 2) Processing num, total=   0.0s\n",
            "[ColumnTransformer] ....... (2 of 2) Processing cat_ord, total=   0.0s\n"
          ]
        },
        {
          "data": {
            "text/plain": [
              "array([[0.20981551, 0.58808725, 0.93098084, 0.58308383, 0.        ],\n",
              "       [0.22136197, 0.17911074, 0.34237024, 0.47055888, 0.        ],\n",
              "       [0.13129965, 0.28733221, 0.36529352, 0.34031936, 0.        ],\n",
              "       [0.0979249 , 0.27614653, 0.07480876, 0.34539255, 0.        ],\n",
              "       [0.03826824, 0.13380872, 0.07542498, 0.34006986, 0.        ],\n",
              "       [0.07923065, 0.20204139, 0.23132791, 0.24101796, 0.        ],\n",
              "       [0.05212398, 0.10151007, 0.02957842, 0.17215569, 0.        ],\n",
              "       [0.08049526, 0.11073826, 0.14419481, 0.29091816, 0.        ],\n",
              "       [0.15967093, 0.19001678, 0.31722858, 0.48003992, 0.        ],\n",
              "       [0.17069897, 0.17587488, 0.08334777, 0.29867052, 0.        ],\n",
              "       [0.14065463, 0.15744847, 0.20139737, 0.36042201, 0.        ],\n",
              "       [0.05405624, 0.14756112, 0.16416024, 0.17623681, 0.        ],\n",
              "       [0.12734086, 0.21728188, 0.25659281, 0.48652695, 0.        ],\n",
              "       [0.06713437, 0.14340394, 0.20090219, 0.2074133 , 0.        ],\n",
              "       [0.1930113 , 0.2299182 , 0.26884013, 0.41231599, 0.        ],\n",
              "       [0.09775308, 0.15323511, 0.02343166, 0.31056637, 0.        ],\n",
              "       [0.18540302, 0.25251678, 0.14937103, 0.35229541, 0.        ],\n",
              "       [0.22268156, 0.34647651, 0.33793348, 0.48478044, 0.        ],\n",
              "       [0.10853664, 0.17365772, 0.03845195, 0.34730539, 0.        ],\n",
              "       [0.1896917 , 0.27684564, 0.28986854, 0.47729541, 0.        ],\n",
              "       [0.05414461, 0.1017198 , 0.1149399 , 0.12952221, 0.        ],\n",
              "       [0.27117666, 0.26677852, 0.28173447, 0.52370259, 0.        ],\n",
              "       [0.05940237, 0.13986472, 0.09899528, 0.38027071, 0.        ],\n",
              "       [0.22103207, 0.16778523, 0.26398742, 0.49750499, 0.        ],\n",
              "       [0.06156733, 0.15126888, 0.34648349, 0.311502  , 0.        ],\n",
              "       [0.20387734, 0.25922819, 0.29282638, 0.52944112, 0.        ],\n",
              "       [0.0804334 , 0.12138213, 0.06779929, 0.23852295, 0.        ],\n",
              "       [0.17723803, 0.2012112 , 0.28547799, 0.44693426, 0.        ],\n",
              "       [0.        , 0.        , 0.13236344, 0.1497006 , 0.        ],\n",
              "       [0.4274455 , 0.58384018, 0.6113028 , 0.83966442, 0.        ],\n",
              "       [0.07488698, 0.07550336, 0.27655825, 0.28617764, 0.        ],\n",
              "       [0.03806205, 0.21379509, 0.19396975, 0.37489084, 0.        ],\n",
              "       [0.24544456, 0.33095638, 0.28395285, 0.62749501, 0.        ],\n",
              "       [0.03167027, 0.14177852, 0.17007593, 0.24101796, 0.        ],\n",
              "       [0.13690792, 0.12290268, 0.25215605, 0.29366267, 0.        ],\n",
              "       [0.24181568, 0.51048658, 0.48508613, 0.71756487, 0.        ],\n",
              "       [0.12899036, 0.33098259, 0.4483904 , 0.54798216, 0.        ],\n",
              "       [0.15868123, 0.25823196, 0.31598074, 0.44132048, 0.        ],\n",
              "       [0.26457868, 0.29697987, 0.34828592, 0.65868263, 0.        ],\n",
              "       [0.21905268, 0.54404362, 0.5775187 , 0.63423154, 0.        ],\n",
              "       [0.09138191, 0.34563758, 0.35346215, 0.48627745, 0.        ],\n",
              "       [0.18507312, 0.38003356, 0.53980621, 0.4992515 , 0.        ],\n",
              "       [0.32516221, 0.60462608, 0.72588618, 0.81086042, 0.        ],\n",
              "       [0.20519693, 0.32676174, 0.51244617, 0.44835329, 0.        ],\n",
              "       [0.16208331, 0.36362206, 0.37975921, 0.64201285, 0.        ],\n",
              "       [0.25981577, 0.24643456, 0.20852788, 0.445063  , 0.        ],\n",
              "       [0.19888762, 0.37109375, 0.48097288, 0.56599301, 0.        ],\n",
              "       [0.15307295, 0.49454698, 0.29134746, 0.62824351, 0.        ],\n",
              "       [0.16890809, 0.22986577, 0.46438123, 0.43238523, 0.        ],\n",
              "       [0.43678576, 1.        , 1.        , 1.        , 0.        ],\n",
              "       [0.16989778, 0.25587248, 0.3675119 , 0.46806387, 0.        ],\n",
              "       [0.15435131, 0.26806313, 0.41372818, 0.53207647, 0.        ],\n",
              "       [0.2007433 , 0.44974308, 0.51147563, 0.51196045, 0.        ],\n",
              "       [0.23228986, 0.29519715, 0.40679574, 0.62868014, 0.        ],\n",
              "       [0.1283718 , 0.3596896 , 0.3388578 , 0.53137475, 0.        ],\n",
              "       [0.21179491, 0.42072148, 0.60635766, 0.53318363, 0.        ],\n",
              "       [0.25303223, 0.43540268, 0.60339982, 0.48278443, 0.        ],\n",
              "       [0.14466054, 0.34850391, 0.4322147 , 0.44041084, 0.        ],\n",
              "       [0.14352651, 0.29244442, 0.36797406, 0.59757048, 0.        ],\n",
              "       [0.2007433 , 0.33334207, 0.41095521, 0.54844998, 0.        ],\n",
              "       [0.34703272, 0.59485109, 0.56069597, 0.80574788, 0.        ],\n",
              "       [0.22763004, 0.30243289, 0.40226654, 0.57110778, 0.        ],\n",
              "       [0.17055758, 0.37709732, 0.3431097 , 0.47979042, 0.        ],\n",
              "       [0.34363064, 0.51069631, 0.61199604, 0.56763036, 0.        ],\n",
              "       [0.109815  , 0.22755872, 0.25774822, 0.41746195, 0.        ],\n",
              "       [0.29122978, 0.45631592, 0.48344875, 0.62774451, 0.        ],\n",
              "       [0.21806298, 0.4454698 , 0.46364177, 0.65269461, 0.        ],\n",
              "       [0.20012474, 0.30345533, 0.3388578 , 0.53137475, 0.        ],\n",
              "       [0.19720867, 0.34126318, 0.36223004, 0.60769532, 0.        ],\n",
              "       [0.23538266, 0.3530044 , 0.36797406, 0.46962325, 0.        ],\n",
              "       [0.22826922, 0.29637689, 0.48651883, 0.56763036, 0.        ],\n",
              "       [0.22919706, 0.43086724, 0.45185662, 0.6045877 , 0.        ],\n",
              "       [0.28796025, 0.43833893, 0.30419559, 0.54751435, 0.        ],\n",
              "       [0.21839288, 0.45092282, 0.58195546, 0.61726547, 0.        ],\n",
              "       [0.24049609, 0.47651007, 0.51688293, 0.70733533, 0.        ],\n",
              "       [0.31301192, 0.52996539, 0.63279337, 0.59546532, 0.        ],\n",
              "       [0.40332167, 0.64164744, 0.83106124, 0.59523141, 0.        ],\n",
              "       [0.55526649, 0.74934084, 0.9342556 , 0.76675221, 0.        ],\n",
              "       [0.51200264, 0.73783557, 0.94059383, 0.75249501, 0.        ],\n",
              "       [0.36311527, 0.56496435, 0.6598299 , 0.5264627 , 0.        ],\n",
              "       [0.50012629, 0.76158767, 1.        , 0.76177333, 0.        ],\n",
              "       [0.49253862, 0.63842282, 0.75572869, 0.85853293, 0.        ],\n",
              "       [0.39249687, 0.68490457, 0.73608677, 0.81487026, 0.        ],\n",
              "       [0.39620823, 0.59288486, 0.74925841, 0.72154129, 0.        ],\n",
              "       [0.45311574, 0.69237626, 0.99813311, 0.75709518, 0.        ],\n",
              "       [0.42156918, 0.53586409, 0.70073131, 0.58002745, 0.        ],\n",
              "       [0.37410502, 0.53145973, 0.76016545, 0.68662675, 0.        ],\n",
              "       [0.49270357, 0.78125   , 1.        , 0.76458021, 0.        ],\n",
              "       [0.37443492, 0.51006711, 0.69435346, 0.69461078, 0.        ],\n",
              "       [0.50631189, 0.79815961, 1.        , 0.8260978 , 0.        ],\n",
              "       [0.37542462, 0.5       , 0.70988214, 0.55364271, 0.        ],\n",
              "       [1.        , 0.72525168, 0.32388372, 0.26871257, 1.        ],\n",
              "       [1.        , 0.81001318, 0.28458668, 0.82556316, 1.        ],\n",
              "       [1.        , 0.64911913, 0.32568616, 0.03666105, 1.        ],\n",
              "       [1.        , 0.73720638, 0.30696856, 0.19641966, 1.        ],\n",
              "       [1.        , 0.74706376, 0.32314426, 0.2248004 , 1.        ],\n",
              "       [1.        , 0.62080537, 0.16046294, 0.27045908, 1.        ],\n",
              "       [1.        , 0.64135906, 0.17303377, 0.34780439, 1.        ],\n",
              "       [1.        , 0.63928796, 0.22793872, 0.18449039, 1.        ],\n",
              "       [0.99266491, 0.53187919, 0.        , 0.        , 1.        ],\n",
              "       [1.        , 0.66233221, 0.20261219, 0.26546906, 1.        ],\n",
              "       [1.        , 0.6522651 , 0.06710605, 0.19665357, 1.        ],\n",
              "       [1.        , 0.55411074, 0.16416024, 0.08707585, 1.        ],\n",
              "       [1.        , 0.55080747, 0.14752238, 0.22776322, 1.        ],\n",
              "       [1.        , 0.58187395, 0.13851021, 0.24226547, 1.        ],\n",
              "       [1.        , 0.66153744, 0.26398742, 0.22906818, 1.        ],\n",
              "       [1.        , 0.56082215, 0.15824456, 0.27020958, 1.        ],\n",
              "       [1.        , 0.6602349 , 0.27507933, 0.33657685, 1.        ],\n",
              "       [1.        , 0.65265835, 0.27299959, 0.1945484 , 1.        ],\n",
              "       [1.        , 0.60822148, 0.19817543, 0.2248004 , 1.        ],\n",
              "       [1.        , 0.77265101, 0.46216285, 0.38897206, 1.        ],\n",
              "       [1.        , 0.86828859, 0.59230791, 0.56961078, 1.        ],\n",
              "       [1.        , 0.79333716, 0.53778242, 0.52709056, 1.        ],\n",
              "       [1.        , 0.81035025, 0.57733383, 0.3964103 , 1.        ],\n",
              "       [1.        , 0.63732173, 0.27230635, 0.21045409, 1.        ],\n",
              "       [1.        , 0.79029467, 0.4657215 , 0.34284556, 1.        ]])"
            ]
          },
          "execution_count": 40,
          "metadata": {},
          "output_type": "execute_result"
        }
      ],
      "source": [
        "X_train = full_pipeline.fit_transform(x_train[['v3','v5','v6','v7','sample_type']])\n",
        "X_train"
      ]
    },
    {
      "cell_type": "code",
      "execution_count": 41,
      "metadata": {
        "colab": {
          "base_uri": "https://localhost:8080/"
        },
        "id": "pwUrQkocKo3x",
        "outputId": "74b8c93e-e096-47b1-83a4-b7f3d8395b67"
      },
      "outputs": [
        {
          "data": {
            "text/plain": [
              "array([[1.        , 0.83905726, 0.80749093, 0.36997879, 1.        ],\n",
              "       [1.        , 0.86828859, 0.91175487, 0.62125749, 1.        ],\n",
              "       [1.        , 2.0526164 , 1.        , 0.52248628, 1.        ],\n",
              "       [1.        , 1.88470008, 1.        , 0.38588448, 1.        ],\n",
              "       [1.        , 1.85559983, 1.        , 0.6209612 , 1.        ],\n",
              "       [1.        , 1.82634228, 1.        , 0.49650699, 1.        ],\n",
              "       [1.        , 1.97734899, 1.        , 0.66616766, 1.        ],\n",
              "       [1.        , 1.95553691, 1.        , 0.73652695, 1.        ],\n",
              "       [1.        , 1.78271812, 1.        , 0.48228543, 1.        ],\n",
              "       [1.        , 2.0159396 , 1.        , 0.61427146, 1.        ],\n",
              "       [1.        , 2.1351982 , 1.        , 0.69230289, 1.        ],\n",
              "       [1.        , 2.05201342, 1.        , 0.64745509, 1.        ],\n",
              "       [1.        , 1.92127202, 1.        , 0.45395147, 1.        ],\n",
              "       [1.        , 1.77684564, 1.        , 0.51497006, 1.        ],\n",
              "       [1.        , 2.14807047, 1.        , 0.64146707, 1.        ],\n",
              "       [1.        , 1.86503775, 1.        , 0.50634668, 1.        ],\n",
              "       [1.        , 2.00098873, 1.        , 0.64699173, 1.        ],\n",
              "       [1.        , 2.09731544, 1.        , 0.76796407, 1.        ],\n",
              "       [1.        , 2.0272651 , 1.        , 0.49850299, 1.        ],\n",
              "       [1.        , 1.89597315, 1.        , 0.59805389, 1.        ],\n",
              "       [1.        , 1.82885906, 1.        , 0.29746756, 1.        ],\n",
              "       [1.        , 1.88509333, 1.        , 0.45839571, 1.        ],\n",
              "       [1.        , 1.81037647, 1.        , 0.41044474, 1.        ],\n",
              "       [1.        , 2.05159396, 1.        , 0.64695609, 1.        ],\n",
              "       [1.        , 2.05369128, 1.        , 0.55364271, 1.        ],\n",
              "       [1.        , 1.84694841, 1.        , 0.47172842, 1.        ],\n",
              "       [1.        , 2.08053691, 1.        , 0.75803081, 1.        ],\n",
              "       [1.        , 2.1761745 , 1.        , 0.77045908, 1.        ],\n",
              "       [1.        , 1.92827181, 1.        , 0.49575848, 1.        ]])"
            ]
          },
          "execution_count": 41,
          "metadata": {},
          "output_type": "execute_result"
        }
      ],
      "source": [
        "X_test = full_pipeline.transform(x_test[['v3','v5','v6','v7','sample_type']])\n",
        "X_test"
      ]
    },
    {
      "attachments": {},
      "cell_type": "markdown",
      "metadata": {},
      "source": [
        "## Model Definition"
      ]
    },
    {
      "attachments": {},
      "cell_type": "markdown",
      "metadata": {},
      "source": [
        "As we say before that we use 4 different model :\n",
        "1. Linear regression analysis is used to predict the value of a variable based on the value of another variable. The variable that we want to predict is called the dependent variable. The variable that we are using to predict the other variable's value is called the independent variable.Linear-regression models are relatively simple and provide an easy-to-interpret mathematical formula that can generate predictions\n",
        "2. Decision tree regression observes features of an object and trains a model in the structure of a tree to predict data in the future to produce meaningful continuous output.\n",
        "3. Random forest regression is used to solve a variety of business problems where the company needs to predict a continuous value\n",
        "4. Support Vector Regression is a supervised learning algorithm that is used to predict discrete values. Support Vector Regression uses the same principle as the SVMs. The basic idea behind SVR is to find the best fit line. In SVR, the best fit line is the hyperplane that has the maximum number of points."
      ]
    },
    {
      "cell_type": "code",
      "execution_count": 42,
      "metadata": {
        "id": "xSf_vsczHhU6"
      },
      "outputs": [],
      "source": [
        "lin_reg = LinearRegression()\n",
        "dtr = DecisionTreeRegressor()\n",
        "rfr = RandomForestRegressor()\n",
        "svr = SVR()"
      ]
    },
    {
      "attachments": {},
      "cell_type": "markdown",
      "metadata": {},
      "source": [
        "## Model Building"
      ]
    },
    {
      "cell_type": "markdown",
      "metadata": {
        "id": "NTCvfMeJHoi9"
      },
      "source": [
        "### Linear regression"
      ]
    },
    {
      "cell_type": "code",
      "execution_count": 43,
      "metadata": {
        "id": "Pm_fbIPrHmcc"
      },
      "outputs": [],
      "source": [
        "lin_reg.fit(X_train,y_train)\n",
        "pred_train_lr = lin_reg.predict(X_train)\n",
        "pred_test_lr = lin_reg.predict(X_test)\n",
        "\n"
      ]
    },
    {
      "cell_type": "code",
      "execution_count": 44,
      "metadata": {
        "id": "LtHRxT2YEtPm"
      },
      "outputs": [],
      "source": [
        "MAE_lr = mean_absolute_error(y_train,pred_train_lr)\n",
        "RMSE_lr = np.sqrt(mean_squared_error(y_train, pred_train_lr))\n",
        "R2_lr = r2_score(y_train,pred_train_lr)\n",
        "\n",
        "MAE_lr_test = mean_absolute_error(y_test,pred_test_lr)\n",
        "RMSE_lr_test = np.sqrt(mean_squared_error(y_test, pred_test_lr))\n",
        "R2_lr_test = r2_score(y_test,pred_test_lr)"
      ]
    },
    {
      "attachments": {},
      "cell_type": "markdown",
      "metadata": {
        "id": "TWfeqpkxH6A6"
      },
      "source": [
        "### Decision Tree Regressor"
      ]
    },
    {
      "cell_type": "code",
      "execution_count": 45,
      "metadata": {
        "id": "NLSBZlOgH1--"
      },
      "outputs": [],
      "source": [
        "dtr.fit(X_train,y_train)\n",
        "pred_train_dt = dtr.predict(X_train)\n",
        "pred_test_dt = dtr.predict(X_test)\n",
        "\n"
      ]
    },
    {
      "cell_type": "code",
      "execution_count": 46,
      "metadata": {
        "id": "V25Jr0mJF8UD"
      },
      "outputs": [],
      "source": [
        "MAE_dt = mean_absolute_error(y_train,pred_train_dt)\n",
        "RMSE_dt = np.sqrt(mean_squared_error(y_train, pred_train_dt))\n",
        "R2_dt = r2_score(y_train, pred_train_dt)\n",
        "\n",
        "MAE_dt_test = mean_absolute_error(y_test,pred_test_dt)\n",
        "RMSE_dt_test = np.sqrt(mean_squared_error(y_test, pred_test_dt))\n",
        "R2_dt_test = r2_score(y_test,pred_test_dt)"
      ]
    },
    {
      "attachments": {},
      "cell_type": "markdown",
      "metadata": {
        "id": "zqsi39DcIWLY"
      },
      "source": [
        "### Random Forest Regressor"
      ]
    },
    {
      "cell_type": "code",
      "execution_count": 47,
      "metadata": {
        "id": "DNfyeBZXIOLu"
      },
      "outputs": [],
      "source": [
        "rfr.fit(X_train,y_train)\n",
        "pred_train_rf = rfr.predict(X_train)\n",
        "pred_test_rf = rfr.predict(X_test)\n",
        "\n"
      ]
    },
    {
      "cell_type": "code",
      "execution_count": 48,
      "metadata": {
        "id": "phbWuWcqGlJZ"
      },
      "outputs": [],
      "source": [
        "MAE_rf = mean_absolute_error(y_train,pred_train_rf)\n",
        "RMSE_rf = np.sqrt(mean_squared_error(y_train, pred_train_rf))\n",
        "R2_rf = r2_score(y_train, pred_train_rf)\n",
        "\n",
        "MAE_rf_test = mean_absolute_error(y_test,pred_test_rf)\n",
        "RMSE_rf_test = np.sqrt(mean_squared_error(y_test, pred_test_rf))\n",
        "R2_rf_test = r2_score(y_test, pred_test_rf)"
      ]
    },
    {
      "attachments": {},
      "cell_type": "markdown",
      "metadata": {
        "id": "J0mBL3f4JOk2"
      },
      "source": [
        "### Support Vector Regression"
      ]
    },
    {
      "cell_type": "code",
      "execution_count": 49,
      "metadata": {
        "id": "qtNKXX7vJCiX"
      },
      "outputs": [],
      "source": [
        "svr.fit(X_train,y_train)\n",
        "pred_train_svr = svr.predict(X_train)\n",
        "pred_test_svr = svr.predict(X_test)\n",
        "\n"
      ]
    },
    {
      "cell_type": "code",
      "execution_count": 50,
      "metadata": {
        "id": "BtGuuKGAHHhx"
      },
      "outputs": [],
      "source": [
        "MAE_svr = mean_absolute_error(y_train,pred_train_svr)\n",
        "RMSE_svr = np.sqrt(mean_squared_error(y_train, pred_train_svr))\n",
        "R2_svr = r2_score(y_train, pred_train_svr)\n",
        "\n",
        "MAE_svr_test = mean_absolute_error(y_test,pred_test_svr)\n",
        "RMSE_svr_test = np.sqrt(mean_squared_error(y_test, pred_test_svr))\n",
        "R2_svr_test = r2_score(y_test, pred_test_svr)"
      ]
    },
    {
      "cell_type": "code",
      "execution_count": 51,
      "metadata": {
        "colab": {
          "base_uri": "https://localhost:8080/",
          "height": 175
        },
        "id": "3IdeSmwZHmfg",
        "outputId": "22aba30a-baf2-4c8e-feec-255140d85004"
      },
      "outputs": [
        {
          "data": {
            "text/html": [
              "<div>\n",
              "<style scoped>\n",
              "    .dataframe tbody tr th:only-of-type {\n",
              "        vertical-align: middle;\n",
              "    }\n",
              "\n",
              "    .dataframe tbody tr th {\n",
              "        vertical-align: top;\n",
              "    }\n",
              "\n",
              "    .dataframe thead th {\n",
              "        text-align: right;\n",
              "    }\n",
              "</style>\n",
              "<table border=\"1\" class=\"dataframe\">\n",
              "  <thead>\n",
              "    <tr style=\"text-align: right;\">\n",
              "      <th></th>\n",
              "      <th>Model</th>\n",
              "      <th>MAE_TRAIN</th>\n",
              "      <th>MAE_TEST</th>\n",
              "      <th>RMSE_TRAIN</th>\n",
              "      <th>RMSE_TEST</th>\n",
              "      <th>R2_TRAIN</th>\n",
              "      <th>R2_TEST</th>\n",
              "    </tr>\n",
              "  </thead>\n",
              "  <tbody>\n",
              "    <tr>\n",
              "      <th>0</th>\n",
              "      <td>Linear Regresison</td>\n",
              "      <td>0.142169</td>\n",
              "      <td>0.604911</td>\n",
              "      <td>0.172072</td>\n",
              "      <td>0.644608</td>\n",
              "      <td>0.237225</td>\n",
              "      <td>-7.332667</td>\n",
              "    </tr>\n",
              "    <tr>\n",
              "      <th>1</th>\n",
              "      <td>Decision Tree Regressor</td>\n",
              "      <td>0.000000</td>\n",
              "      <td>0.343793</td>\n",
              "      <td>0.000000</td>\n",
              "      <td>0.398025</td>\n",
              "      <td>1.000000</td>\n",
              "      <td>-2.176975</td>\n",
              "    </tr>\n",
              "    <tr>\n",
              "      <th>2</th>\n",
              "      <td>Random Forest Regressor</td>\n",
              "      <td>0.056958</td>\n",
              "      <td>0.281431</td>\n",
              "      <td>0.070138</td>\n",
              "      <td>0.338484</td>\n",
              "      <td>0.873270</td>\n",
              "      <td>-1.297572</td>\n",
              "    </tr>\n",
              "    <tr>\n",
              "      <th>3</th>\n",
              "      <td>SVR</td>\n",
              "      <td>0.130793</td>\n",
              "      <td>0.238434</td>\n",
              "      <td>0.160624</td>\n",
              "      <td>0.299086</td>\n",
              "      <td>0.335340</td>\n",
              "      <td>-0.793849</td>\n",
              "    </tr>\n",
              "  </tbody>\n",
              "</table>\n",
              "</div>"
            ],
            "text/plain": [
              "                     Model  MAE_TRAIN  MAE_TEST  RMSE_TRAIN  RMSE_TEST  \\\n",
              "0        Linear Regresison   0.142169  0.604911    0.172072   0.644608   \n",
              "1  Decision Tree Regressor   0.000000  0.343793    0.000000   0.398025   \n",
              "2  Random Forest Regressor   0.056958  0.281431    0.070138   0.338484   \n",
              "3                      SVR   0.130793  0.238434    0.160624   0.299086   \n",
              "\n",
              "   R2_TRAIN   R2_TEST  \n",
              "0  0.237225 -7.332667  \n",
              "1  1.000000 -2.176975  \n",
              "2  0.873270 -1.297572  \n",
              "3  0.335340 -0.793849  "
            ]
          },
          "execution_count": 51,
          "metadata": {},
          "output_type": "execute_result"
        }
      ],
      "source": [
        "# convert the result in to dataframe\n",
        "    \n",
        "predict = ['Linear Regresison','Decision Tree Regressor','Random Forest Regressor','SVR']\n",
        "score = pd.DataFrame(predict)\n",
        "score.rename(columns={0:'Model'},inplace = True)\n",
        "score['MAE_TRAIN']= (MAE_lr,MAE_dt,MAE_rf,MAE_svr)\n",
        "score['MAE_TEST']= (MAE_lr_test,MAE_dt_test,MAE_rf_test,MAE_svr_test)\n",
        "score['RMSE_TRAIN']= (RMSE_lr,RMSE_dt,RMSE_rf,RMSE_svr)\n",
        "score['RMSE_TEST']=(RMSE_lr_test,RMSE_dt_test,RMSE_rf_test,RMSE_svr_test)\n",
        "score['R2_TRAIN']=(R2_lr,R2_dt,R2_rf,R2_svr)\n",
        "score['R2_TEST']=(R2_lr_test,R2_dt_test,R2_rf_test,R2_svr_test)\n",
        "score"
      ]
    },
    {
      "attachments": {},
      "cell_type": "markdown",
      "metadata": {},
      "source": [
        "### Hyperparameter Tuning"
      ]
    },
    {
      "cell_type": "code",
      "execution_count": 52,
      "metadata": {
        "id": "fD9VPhttCC6P"
      },
      "outputs": [],
      "source": [
        "model_params = {\n",
        "    'linear_regression': {\n",
        "        'model': LinearRegression(),\n",
        "        'params' : {\n",
        "            'fit_intercept': [True,False]        \n",
        "            \n",
        "        }  \n",
        "    },\n",
        "    'decision_tree': {\n",
        "        'model': DecisionTreeRegressor(),\n",
        "        'params' : {\n",
        "            'min_samples_leaf' : [1,2,3]\n",
        "        }\n",
        "    },\n",
        "    'random_forest': {\n",
        "        'model': RandomForestRegressor(),\n",
        "        'params' : {\n",
        "            'n_estimators': [100, 500],\n",
        "            'min_samples_leaf' : [1,2,3]\n",
        "        }\n",
        "    },    \n",
        "    'svr': {\n",
        "        'model': SVR(),\n",
        "        'params' : {\n",
        "            'kernel': ['linear', 'poly', 'rbf', 'sigmoid' ],\n",
        "            'gamma' : [0.5,0.1],\n",
        "            'epsilon' : [0.01,0.02]\n",
        "        }\n",
        "    }\n",
        "}"
      ]
    },
    {
      "cell_type": "code",
      "execution_count": 53,
      "metadata": {
        "id": "ymqVD0_TCIjq"
      },
      "outputs": [],
      "source": [
        "scores = []\n",
        "\n",
        "for model_name, mp in model_params.items():\n",
        "    clf =  GridSearchCV(mp['model'], mp['params'], cv=5, return_train_score=False)\n",
        "    clf.fit(X_train, y_train)\n",
        "    scores.append({\n",
        "        'model': model_name,\n",
        "        'best_score': clf.best_score_,\n",
        "        'best_params': clf.best_params_\n",
        "    })"
      ]
    },
    {
      "cell_type": "code",
      "execution_count": 54,
      "metadata": {
        "colab": {
          "base_uri": "https://localhost:8080/",
          "height": 175
        },
        "id": "pFBPhBEOCX-m",
        "outputId": "8f573c79-573f-4b5b-a444-984fa0f5d880"
      },
      "outputs": [
        {
          "data": {
            "text/html": [
              "<div>\n",
              "<style scoped>\n",
              "    .dataframe tbody tr th:only-of-type {\n",
              "        vertical-align: middle;\n",
              "    }\n",
              "\n",
              "    .dataframe tbody tr th {\n",
              "        vertical-align: top;\n",
              "    }\n",
              "\n",
              "    .dataframe thead th {\n",
              "        text-align: right;\n",
              "    }\n",
              "</style>\n",
              "<table border=\"1\" class=\"dataframe\">\n",
              "  <thead>\n",
              "    <tr style=\"text-align: right;\">\n",
              "      <th></th>\n",
              "      <th>model</th>\n",
              "      <th>best_score</th>\n",
              "      <th>best_params</th>\n",
              "    </tr>\n",
              "  </thead>\n",
              "  <tbody>\n",
              "    <tr>\n",
              "      <th>0</th>\n",
              "      <td>linear_regression</td>\n",
              "      <td>-0.227825</td>\n",
              "      <td>{'fit_intercept': True}</td>\n",
              "    </tr>\n",
              "    <tr>\n",
              "      <th>1</th>\n",
              "      <td>decision_tree</td>\n",
              "      <td>-0.922250</td>\n",
              "      <td>{'min_samples_leaf': 2}</td>\n",
              "    </tr>\n",
              "    <tr>\n",
              "      <th>2</th>\n",
              "      <td>random_forest</td>\n",
              "      <td>-0.473216</td>\n",
              "      <td>{'min_samples_leaf': 3, 'n_estimators': 100}</td>\n",
              "    </tr>\n",
              "    <tr>\n",
              "      <th>3</th>\n",
              "      <td>svr</td>\n",
              "      <td>-0.231430</td>\n",
              "      <td>{'epsilon': 0.02, 'gamma': 0.5, 'kernel': 'rbf'}</td>\n",
              "    </tr>\n",
              "  </tbody>\n",
              "</table>\n",
              "</div>"
            ],
            "text/plain": [
              "               model  best_score  \\\n",
              "0  linear_regression   -0.227825   \n",
              "1      decision_tree   -0.922250   \n",
              "2      random_forest   -0.473216   \n",
              "3                svr   -0.231430   \n",
              "\n",
              "                                        best_params  \n",
              "0                           {'fit_intercept': True}  \n",
              "1                           {'min_samples_leaf': 2}  \n",
              "2      {'min_samples_leaf': 3, 'n_estimators': 100}  \n",
              "3  {'epsilon': 0.02, 'gamma': 0.5, 'kernel': 'rbf'}  "
            ]
          },
          "execution_count": 54,
          "metadata": {},
          "output_type": "execute_result"
        }
      ],
      "source": [
        "score_df = pd.DataFrame(scores,columns=['model','best_score','best_params'])\n",
        "score_df"
      ]
    },
    {
      "attachments": {},
      "cell_type": "markdown",
      "metadata": {},
      "source": [
        "In conclusion, R² is the ratio between how good our model is vs how good the naive average model is.\n",
        "\n",
        "Common misconception: Many articles on the web claim that the R² range lies between 0 and 1 which is not true. The maximum value of R² is 1 but the minimum can be minus infinity."
      ]
    },
    {
      "cell_type": "code",
      "execution_count": 55,
      "metadata": {
        "colab": {
          "base_uri": "https://localhost:8080/",
          "height": 75
        },
        "id": "jdBS1O57D-rc",
        "outputId": "8a8817c8-aae4-4909-c320-4b920dbcc79f"
      },
      "outputs": [
        {
          "data": {
            "text/html": [
              "<style>#sk-container-id-2 {color: black;background-color: white;}#sk-container-id-2 pre{padding: 0;}#sk-container-id-2 div.sk-toggleable {background-color: white;}#sk-container-id-2 label.sk-toggleable__label {cursor: pointer;display: block;width: 100%;margin-bottom: 0;padding: 0.3em;box-sizing: border-box;text-align: center;}#sk-container-id-2 label.sk-toggleable__label-arrow:before {content: \"▸\";float: left;margin-right: 0.25em;color: #696969;}#sk-container-id-2 label.sk-toggleable__label-arrow:hover:before {color: black;}#sk-container-id-2 div.sk-estimator:hover label.sk-toggleable__label-arrow:before {color: black;}#sk-container-id-2 div.sk-toggleable__content {max-height: 0;max-width: 0;overflow: hidden;text-align: left;background-color: #f0f8ff;}#sk-container-id-2 div.sk-toggleable__content pre {margin: 0.2em;color: black;border-radius: 0.25em;background-color: #f0f8ff;}#sk-container-id-2 input.sk-toggleable__control:checked~div.sk-toggleable__content {max-height: 200px;max-width: 100%;overflow: auto;}#sk-container-id-2 input.sk-toggleable__control:checked~label.sk-toggleable__label-arrow:before {content: \"▾\";}#sk-container-id-2 div.sk-estimator input.sk-toggleable__control:checked~label.sk-toggleable__label {background-color: #d4ebff;}#sk-container-id-2 div.sk-label input.sk-toggleable__control:checked~label.sk-toggleable__label {background-color: #d4ebff;}#sk-container-id-2 input.sk-hidden--visually {border: 0;clip: rect(1px 1px 1px 1px);clip: rect(1px, 1px, 1px, 1px);height: 1px;margin: -1px;overflow: hidden;padding: 0;position: absolute;width: 1px;}#sk-container-id-2 div.sk-estimator {font-family: monospace;background-color: #f0f8ff;border: 1px dotted black;border-radius: 0.25em;box-sizing: border-box;margin-bottom: 0.5em;}#sk-container-id-2 div.sk-estimator:hover {background-color: #d4ebff;}#sk-container-id-2 div.sk-parallel-item::after {content: \"\";width: 100%;border-bottom: 1px solid gray;flex-grow: 1;}#sk-container-id-2 div.sk-label:hover label.sk-toggleable__label {background-color: #d4ebff;}#sk-container-id-2 div.sk-serial::before {content: \"\";position: absolute;border-left: 1px solid gray;box-sizing: border-box;top: 0;bottom: 0;left: 50%;z-index: 0;}#sk-container-id-2 div.sk-serial {display: flex;flex-direction: column;align-items: center;background-color: white;padding-right: 0.2em;padding-left: 0.2em;position: relative;}#sk-container-id-2 div.sk-item {position: relative;z-index: 1;}#sk-container-id-2 div.sk-parallel {display: flex;align-items: stretch;justify-content: center;background-color: white;position: relative;}#sk-container-id-2 div.sk-item::before, #sk-container-id-2 div.sk-parallel-item::before {content: \"\";position: absolute;border-left: 1px solid gray;box-sizing: border-box;top: 0;bottom: 0;left: 50%;z-index: -1;}#sk-container-id-2 div.sk-parallel-item {display: flex;flex-direction: column;z-index: 1;position: relative;background-color: white;}#sk-container-id-2 div.sk-parallel-item:first-child::after {align-self: flex-end;width: 50%;}#sk-container-id-2 div.sk-parallel-item:last-child::after {align-self: flex-start;width: 50%;}#sk-container-id-2 div.sk-parallel-item:only-child::after {width: 0;}#sk-container-id-2 div.sk-dashed-wrapped {border: 1px dashed gray;margin: 0 0.4em 0.5em 0.4em;box-sizing: border-box;padding-bottom: 0.4em;background-color: white;}#sk-container-id-2 div.sk-label label {font-family: monospace;font-weight: bold;display: inline-block;line-height: 1.2em;}#sk-container-id-2 div.sk-label-container {text-align: center;}#sk-container-id-2 div.sk-container {/* jupyter's `normalize.less` sets `[hidden] { display: none; }` but bootstrap.min.css set `[hidden] { display: none !important; }` so we also need the `!important` here to be able to override the default hidden behavior on the sphinx rendered scikit-learn.org. See: https://github.com/scikit-learn/scikit-learn/issues/21755 */display: inline-block !important;position: relative;}#sk-container-id-2 div.sk-text-repr-fallback {display: none;}</style><div id=\"sk-container-id-2\" class=\"sk-top-container\"><div class=\"sk-text-repr-fallback\"><pre>SVR(epsilon=0.02, gamma=0.5)</pre><b>In a Jupyter environment, please rerun this cell to show the HTML representation or trust the notebook. <br />On GitHub, the HTML representation is unable to render, please try loading this page with nbviewer.org.</b></div><div class=\"sk-container\" hidden><div class=\"sk-item\"><div class=\"sk-estimator sk-toggleable\"><input class=\"sk-toggleable__control sk-hidden--visually\" id=\"sk-estimator-id-7\" type=\"checkbox\" checked><label for=\"sk-estimator-id-7\" class=\"sk-toggleable__label sk-toggleable__label-arrow\">SVR</label><div class=\"sk-toggleable__content\"><pre>SVR(epsilon=0.02, gamma=0.5)</pre></div></div></div></div></div>"
            ],
            "text/plain": [
              "SVR(epsilon=0.02, gamma=0.5)"
            ]
          },
          "execution_count": 55,
          "metadata": {},
          "output_type": "execute_result"
        }
      ],
      "source": [
        "svr_tuned = clf.best_estimator_\n",
        "svr_tuned.fit(X_train, y_train)"
      ]
    },
    {
      "cell_type": "code",
      "execution_count": 56,
      "metadata": {
        "colab": {
          "base_uri": "https://localhost:8080/"
        },
        "id": "DIh2BorEsQBv",
        "outputId": "1ce65a6a-1ef0-42d6-d88b-3a71d2259561"
      },
      "outputs": [
        {
          "name": "stdout",
          "output_type": "stream",
          "text": [
            "==================== TRAINING ====================\n",
            "MAE: 0.12975641703381235\n",
            "RMSE : 0.16897076044281048\n",
            " \n",
            "==================== TEST ====================\n",
            "MAE: 0.3690453678090226\n",
            "RMSE : 0.4225275951666982\n"
          ]
        }
      ],
      "source": [
        "pred_train_svr = svr_tuned.predict(X_train)\n",
        "pred_test_svr = svr_tuned.predict(X_test)\n",
        "\n",
        "print(\"=\"*20,\"TRAINING\",\"=\"*20)\n",
        "print(\"MAE:\",mean_absolute_error(y_train,pred_train_svr))\n",
        "print(\"RMSE :\",np.sqrt(mean_squared_error(y_train, pred_train_svr)))\n",
        "print(' ')\n",
        "print(\"=\"*20,\"TEST\",\"=\"*20)\n",
        "print(\"MAE:\",mean_absolute_error(y_test,pred_test_svr))\n",
        "print(\"RMSE :\",np.sqrt(mean_squared_error(y_test, pred_test_svr)))"
      ]
    },
    {
      "attachments": {},
      "cell_type": "markdown",
      "metadata": {},
      "source": [
        "After we do some hyperparameter tuning we conclude that the result is worse than the baseline model, the R2 score much better but the MAE and RMSE is not good enough, so we continue to use the base line model of the SVR. "
      ]
    },
    {
      "attachments": {},
      "cell_type": "markdown",
      "metadata": {
        "id": "QkSnbcigyqCi"
      },
      "source": [
        "### Predict"
      ]
    },
    {
      "cell_type": "code",
      "execution_count": 57,
      "metadata": {
        "colab": {
          "base_uri": "https://localhost:8080/",
          "height": 228
        },
        "id": "yZnIxPuzyfv7",
        "outputId": "54530019-f7b4-4338-abff-e80371c8e3a9"
      },
      "outputs": [
        {
          "data": {
            "text/html": [
              "<style>#sk-container-id-3 {color: black;background-color: white;}#sk-container-id-3 pre{padding: 0;}#sk-container-id-3 div.sk-toggleable {background-color: white;}#sk-container-id-3 label.sk-toggleable__label {cursor: pointer;display: block;width: 100%;margin-bottom: 0;padding: 0.3em;box-sizing: border-box;text-align: center;}#sk-container-id-3 label.sk-toggleable__label-arrow:before {content: \"▸\";float: left;margin-right: 0.25em;color: #696969;}#sk-container-id-3 label.sk-toggleable__label-arrow:hover:before {color: black;}#sk-container-id-3 div.sk-estimator:hover label.sk-toggleable__label-arrow:before {color: black;}#sk-container-id-3 div.sk-toggleable__content {max-height: 0;max-width: 0;overflow: hidden;text-align: left;background-color: #f0f8ff;}#sk-container-id-3 div.sk-toggleable__content pre {margin: 0.2em;color: black;border-radius: 0.25em;background-color: #f0f8ff;}#sk-container-id-3 input.sk-toggleable__control:checked~div.sk-toggleable__content {max-height: 200px;max-width: 100%;overflow: auto;}#sk-container-id-3 input.sk-toggleable__control:checked~label.sk-toggleable__label-arrow:before {content: \"▾\";}#sk-container-id-3 div.sk-estimator input.sk-toggleable__control:checked~label.sk-toggleable__label {background-color: #d4ebff;}#sk-container-id-3 div.sk-label input.sk-toggleable__control:checked~label.sk-toggleable__label {background-color: #d4ebff;}#sk-container-id-3 input.sk-hidden--visually {border: 0;clip: rect(1px 1px 1px 1px);clip: rect(1px, 1px, 1px, 1px);height: 1px;margin: -1px;overflow: hidden;padding: 0;position: absolute;width: 1px;}#sk-container-id-3 div.sk-estimator {font-family: monospace;background-color: #f0f8ff;border: 1px dotted black;border-radius: 0.25em;box-sizing: border-box;margin-bottom: 0.5em;}#sk-container-id-3 div.sk-estimator:hover {background-color: #d4ebff;}#sk-container-id-3 div.sk-parallel-item::after {content: \"\";width: 100%;border-bottom: 1px solid gray;flex-grow: 1;}#sk-container-id-3 div.sk-label:hover label.sk-toggleable__label {background-color: #d4ebff;}#sk-container-id-3 div.sk-serial::before {content: \"\";position: absolute;border-left: 1px solid gray;box-sizing: border-box;top: 0;bottom: 0;left: 50%;z-index: 0;}#sk-container-id-3 div.sk-serial {display: flex;flex-direction: column;align-items: center;background-color: white;padding-right: 0.2em;padding-left: 0.2em;position: relative;}#sk-container-id-3 div.sk-item {position: relative;z-index: 1;}#sk-container-id-3 div.sk-parallel {display: flex;align-items: stretch;justify-content: center;background-color: white;position: relative;}#sk-container-id-3 div.sk-item::before, #sk-container-id-3 div.sk-parallel-item::before {content: \"\";position: absolute;border-left: 1px solid gray;box-sizing: border-box;top: 0;bottom: 0;left: 50%;z-index: -1;}#sk-container-id-3 div.sk-parallel-item {display: flex;flex-direction: column;z-index: 1;position: relative;background-color: white;}#sk-container-id-3 div.sk-parallel-item:first-child::after {align-self: flex-end;width: 50%;}#sk-container-id-3 div.sk-parallel-item:last-child::after {align-self: flex-start;width: 50%;}#sk-container-id-3 div.sk-parallel-item:only-child::after {width: 0;}#sk-container-id-3 div.sk-dashed-wrapped {border: 1px dashed gray;margin: 0 0.4em 0.5em 0.4em;box-sizing: border-box;padding-bottom: 0.4em;background-color: white;}#sk-container-id-3 div.sk-label label {font-family: monospace;font-weight: bold;display: inline-block;line-height: 1.2em;}#sk-container-id-3 div.sk-label-container {text-align: center;}#sk-container-id-3 div.sk-container {/* jupyter's `normalize.less` sets `[hidden] { display: none; }` but bootstrap.min.css set `[hidden] { display: none !important; }` so we also need the `!important` here to be able to override the default hidden behavior on the sphinx rendered scikit-learn.org. See: https://github.com/scikit-learn/scikit-learn/issues/21755 */display: inline-block !important;position: relative;}#sk-container-id-3 div.sk-text-repr-fallback {display: none;}</style><div id=\"sk-container-id-3\" class=\"sk-top-container\"><div class=\"sk-text-repr-fallback\"><pre>Pipeline(steps=[(&#x27;preprocessing&#x27;,\n",
              "                 ColumnTransformer(transformers=[(&#x27;num&#x27;,\n",
              "                                                  Pipeline(steps=[(&#x27;outlier&#x27;,\n",
              "                                                                   Winsorizer(capping_method=&#x27;iqr&#x27;,\n",
              "                                                                              fold=1.5,\n",
              "                                                                              tail=&#x27;both&#x27;,\n",
              "                                                                              variables=[&#x27;v3&#x27;,\n",
              "                                                                                         &#x27;v6&#x27;])),\n",
              "                                                                  (&#x27;scaler&#x27;,\n",
              "                                                                   MinMaxScaler())]),\n",
              "                                                  [&#x27;v3&#x27;, &#x27;v5&#x27;, &#x27;v6&#x27;, &#x27;v7&#x27;]),\n",
              "                                                 (&#x27;cat_ord&#x27;,\n",
              "                                                  Pipeline(steps=[(&#x27;ord_enc&#x27;,\n",
              "                                                                   OrdinalEncoder(categories=[[&#x27;lab &#x27;\n",
              "                                                                                               &#x27;1&#x27;,\n",
              "                                                                                               &#x27;lab &#x27;\n",
              "                                                                                               &#x27;2&#x27;]]))]),\n",
              "                                                  [&#x27;sample_type&#x27;])],\n",
              "                                   verbose=True)),\n",
              "                (&#x27;regression&#x27;, SVR())])</pre><b>In a Jupyter environment, please rerun this cell to show the HTML representation or trust the notebook. <br />On GitHub, the HTML representation is unable to render, please try loading this page with nbviewer.org.</b></div><div class=\"sk-container\" hidden><div class=\"sk-item sk-dashed-wrapped\"><div class=\"sk-label-container\"><div class=\"sk-label sk-toggleable\"><input class=\"sk-toggleable__control sk-hidden--visually\" id=\"sk-estimator-id-8\" type=\"checkbox\" ><label for=\"sk-estimator-id-8\" class=\"sk-toggleable__label sk-toggleable__label-arrow\">Pipeline</label><div class=\"sk-toggleable__content\"><pre>Pipeline(steps=[(&#x27;preprocessing&#x27;,\n",
              "                 ColumnTransformer(transformers=[(&#x27;num&#x27;,\n",
              "                                                  Pipeline(steps=[(&#x27;outlier&#x27;,\n",
              "                                                                   Winsorizer(capping_method=&#x27;iqr&#x27;,\n",
              "                                                                              fold=1.5,\n",
              "                                                                              tail=&#x27;both&#x27;,\n",
              "                                                                              variables=[&#x27;v3&#x27;,\n",
              "                                                                                         &#x27;v6&#x27;])),\n",
              "                                                                  (&#x27;scaler&#x27;,\n",
              "                                                                   MinMaxScaler())]),\n",
              "                                                  [&#x27;v3&#x27;, &#x27;v5&#x27;, &#x27;v6&#x27;, &#x27;v7&#x27;]),\n",
              "                                                 (&#x27;cat_ord&#x27;,\n",
              "                                                  Pipeline(steps=[(&#x27;ord_enc&#x27;,\n",
              "                                                                   OrdinalEncoder(categories=[[&#x27;lab &#x27;\n",
              "                                                                                               &#x27;1&#x27;,\n",
              "                                                                                               &#x27;lab &#x27;\n",
              "                                                                                               &#x27;2&#x27;]]))]),\n",
              "                                                  [&#x27;sample_type&#x27;])],\n",
              "                                   verbose=True)),\n",
              "                (&#x27;regression&#x27;, SVR())])</pre></div></div></div><div class=\"sk-serial\"><div class=\"sk-item sk-dashed-wrapped\"><div class=\"sk-label-container\"><div class=\"sk-label sk-toggleable\"><input class=\"sk-toggleable__control sk-hidden--visually\" id=\"sk-estimator-id-9\" type=\"checkbox\" ><label for=\"sk-estimator-id-9\" class=\"sk-toggleable__label sk-toggleable__label-arrow\">preprocessing: ColumnTransformer</label><div class=\"sk-toggleable__content\"><pre>ColumnTransformer(transformers=[(&#x27;num&#x27;,\n",
              "                                 Pipeline(steps=[(&#x27;outlier&#x27;,\n",
              "                                                  Winsorizer(capping_method=&#x27;iqr&#x27;,\n",
              "                                                             fold=1.5,\n",
              "                                                             tail=&#x27;both&#x27;,\n",
              "                                                             variables=[&#x27;v3&#x27;,\n",
              "                                                                        &#x27;v6&#x27;])),\n",
              "                                                 (&#x27;scaler&#x27;, MinMaxScaler())]),\n",
              "                                 [&#x27;v3&#x27;, &#x27;v5&#x27;, &#x27;v6&#x27;, &#x27;v7&#x27;]),\n",
              "                                (&#x27;cat_ord&#x27;,\n",
              "                                 Pipeline(steps=[(&#x27;ord_enc&#x27;,\n",
              "                                                  OrdinalEncoder(categories=[[&#x27;lab &#x27;\n",
              "                                                                              &#x27;1&#x27;,\n",
              "                                                                              &#x27;lab &#x27;\n",
              "                                                                              &#x27;2&#x27;]]))]),\n",
              "                                 [&#x27;sample_type&#x27;])],\n",
              "                  verbose=True)</pre></div></div></div><div class=\"sk-parallel\"><div class=\"sk-parallel-item\"><div class=\"sk-item\"><div class=\"sk-label-container\"><div class=\"sk-label sk-toggleable\"><input class=\"sk-toggleable__control sk-hidden--visually\" id=\"sk-estimator-id-10\" type=\"checkbox\" ><label for=\"sk-estimator-id-10\" class=\"sk-toggleable__label sk-toggleable__label-arrow\">num</label><div class=\"sk-toggleable__content\"><pre>[&#x27;v3&#x27;, &#x27;v5&#x27;, &#x27;v6&#x27;, &#x27;v7&#x27;]</pre></div></div></div><div class=\"sk-serial\"><div class=\"sk-item\"><div class=\"sk-serial\"><div class=\"sk-item\"><div class=\"sk-estimator sk-toggleable\"><input class=\"sk-toggleable__control sk-hidden--visually\" id=\"sk-estimator-id-11\" type=\"checkbox\" ><label for=\"sk-estimator-id-11\" class=\"sk-toggleable__label sk-toggleable__label-arrow\">Winsorizer</label><div class=\"sk-toggleable__content\"><pre>Winsorizer(capping_method=&#x27;iqr&#x27;, fold=1.5, tail=&#x27;both&#x27;, variables=[&#x27;v3&#x27;, &#x27;v6&#x27;])</pre></div></div></div><div class=\"sk-item\"><div class=\"sk-estimator sk-toggleable\"><input class=\"sk-toggleable__control sk-hidden--visually\" id=\"sk-estimator-id-12\" type=\"checkbox\" ><label for=\"sk-estimator-id-12\" class=\"sk-toggleable__label sk-toggleable__label-arrow\">MinMaxScaler</label><div class=\"sk-toggleable__content\"><pre>MinMaxScaler()</pre></div></div></div></div></div></div></div></div><div class=\"sk-parallel-item\"><div class=\"sk-item\"><div class=\"sk-label-container\"><div class=\"sk-label sk-toggleable\"><input class=\"sk-toggleable__control sk-hidden--visually\" id=\"sk-estimator-id-13\" type=\"checkbox\" ><label for=\"sk-estimator-id-13\" class=\"sk-toggleable__label sk-toggleable__label-arrow\">cat_ord</label><div class=\"sk-toggleable__content\"><pre>[&#x27;sample_type&#x27;]</pre></div></div></div><div class=\"sk-serial\"><div class=\"sk-item\"><div class=\"sk-serial\"><div class=\"sk-item\"><div class=\"sk-estimator sk-toggleable\"><input class=\"sk-toggleable__control sk-hidden--visually\" id=\"sk-estimator-id-14\" type=\"checkbox\" ><label for=\"sk-estimator-id-14\" class=\"sk-toggleable__label sk-toggleable__label-arrow\">OrdinalEncoder</label><div class=\"sk-toggleable__content\"><pre>OrdinalEncoder(categories=[[&#x27;lab 1&#x27;, &#x27;lab 2&#x27;]])</pre></div></div></div></div></div></div></div></div></div></div><div class=\"sk-item\"><div class=\"sk-estimator sk-toggleable\"><input class=\"sk-toggleable__control sk-hidden--visually\" id=\"sk-estimator-id-15\" type=\"checkbox\" ><label for=\"sk-estimator-id-15\" class=\"sk-toggleable__label sk-toggleable__label-arrow\">SVR</label><div class=\"sk-toggleable__content\"><pre>SVR()</pre></div></div></div></div></div></div></div>"
            ],
            "text/plain": [
              "Pipeline(steps=[('preprocessing',\n",
              "                 ColumnTransformer(transformers=[('num',\n",
              "                                                  Pipeline(steps=[('outlier',\n",
              "                                                                   Winsorizer(capping_method='iqr',\n",
              "                                                                              fold=1.5,\n",
              "                                                                              tail='both',\n",
              "                                                                              variables=['v3',\n",
              "                                                                                         'v6'])),\n",
              "                                                                  ('scaler',\n",
              "                                                                   MinMaxScaler())]),\n",
              "                                                  ['v3', 'v5', 'v6', 'v7']),\n",
              "                                                 ('cat_ord',\n",
              "                                                  Pipeline(steps=[('ord_enc',\n",
              "                                                                   OrdinalEncoder(categories=[['lab '\n",
              "                                                                                               '1',\n",
              "                                                                                               'lab '\n",
              "                                                                                               '2']]))]),\n",
              "                                                  ['sample_type'])],\n",
              "                                   verbose=True)),\n",
              "                ('regression', SVR())])"
            ]
          },
          "execution_count": 57,
          "metadata": {},
          "output_type": "execute_result"
        }
      ],
      "source": [
        "all_process = Pipeline([\n",
        "    (\"preprocessing\", full_pipeline),\n",
        "    (\"regression\", svr)\n",
        "])\n",
        "all_process\n"
      ]
    },
    {
      "cell_type": "code",
      "execution_count": 58,
      "metadata": {
        "colab": {
          "base_uri": "https://localhost:8080/",
          "height": 265
        },
        "id": "QiRKgPuu0tHm",
        "outputId": "b05fba1b-7d18-4caa-b6a1-d7b20f91d907"
      },
      "outputs": [
        {
          "name": "stdout",
          "output_type": "stream",
          "text": [
            "[ColumnTransformer] ........... (1 of 2) Processing num, total=   0.0s\n",
            "[ColumnTransformer] ....... (2 of 2) Processing cat_ord, total=   0.0s\n"
          ]
        },
        {
          "data": {
            "text/html": [
              "<style>#sk-container-id-4 {color: black;background-color: white;}#sk-container-id-4 pre{padding: 0;}#sk-container-id-4 div.sk-toggleable {background-color: white;}#sk-container-id-4 label.sk-toggleable__label {cursor: pointer;display: block;width: 100%;margin-bottom: 0;padding: 0.3em;box-sizing: border-box;text-align: center;}#sk-container-id-4 label.sk-toggleable__label-arrow:before {content: \"▸\";float: left;margin-right: 0.25em;color: #696969;}#sk-container-id-4 label.sk-toggleable__label-arrow:hover:before {color: black;}#sk-container-id-4 div.sk-estimator:hover label.sk-toggleable__label-arrow:before {color: black;}#sk-container-id-4 div.sk-toggleable__content {max-height: 0;max-width: 0;overflow: hidden;text-align: left;background-color: #f0f8ff;}#sk-container-id-4 div.sk-toggleable__content pre {margin: 0.2em;color: black;border-radius: 0.25em;background-color: #f0f8ff;}#sk-container-id-4 input.sk-toggleable__control:checked~div.sk-toggleable__content {max-height: 200px;max-width: 100%;overflow: auto;}#sk-container-id-4 input.sk-toggleable__control:checked~label.sk-toggleable__label-arrow:before {content: \"▾\";}#sk-container-id-4 div.sk-estimator input.sk-toggleable__control:checked~label.sk-toggleable__label {background-color: #d4ebff;}#sk-container-id-4 div.sk-label input.sk-toggleable__control:checked~label.sk-toggleable__label {background-color: #d4ebff;}#sk-container-id-4 input.sk-hidden--visually {border: 0;clip: rect(1px 1px 1px 1px);clip: rect(1px, 1px, 1px, 1px);height: 1px;margin: -1px;overflow: hidden;padding: 0;position: absolute;width: 1px;}#sk-container-id-4 div.sk-estimator {font-family: monospace;background-color: #f0f8ff;border: 1px dotted black;border-radius: 0.25em;box-sizing: border-box;margin-bottom: 0.5em;}#sk-container-id-4 div.sk-estimator:hover {background-color: #d4ebff;}#sk-container-id-4 div.sk-parallel-item::after {content: \"\";width: 100%;border-bottom: 1px solid gray;flex-grow: 1;}#sk-container-id-4 div.sk-label:hover label.sk-toggleable__label {background-color: #d4ebff;}#sk-container-id-4 div.sk-serial::before {content: \"\";position: absolute;border-left: 1px solid gray;box-sizing: border-box;top: 0;bottom: 0;left: 50%;z-index: 0;}#sk-container-id-4 div.sk-serial {display: flex;flex-direction: column;align-items: center;background-color: white;padding-right: 0.2em;padding-left: 0.2em;position: relative;}#sk-container-id-4 div.sk-item {position: relative;z-index: 1;}#sk-container-id-4 div.sk-parallel {display: flex;align-items: stretch;justify-content: center;background-color: white;position: relative;}#sk-container-id-4 div.sk-item::before, #sk-container-id-4 div.sk-parallel-item::before {content: \"\";position: absolute;border-left: 1px solid gray;box-sizing: border-box;top: 0;bottom: 0;left: 50%;z-index: -1;}#sk-container-id-4 div.sk-parallel-item {display: flex;flex-direction: column;z-index: 1;position: relative;background-color: white;}#sk-container-id-4 div.sk-parallel-item:first-child::after {align-self: flex-end;width: 50%;}#sk-container-id-4 div.sk-parallel-item:last-child::after {align-self: flex-start;width: 50%;}#sk-container-id-4 div.sk-parallel-item:only-child::after {width: 0;}#sk-container-id-4 div.sk-dashed-wrapped {border: 1px dashed gray;margin: 0 0.4em 0.5em 0.4em;box-sizing: border-box;padding-bottom: 0.4em;background-color: white;}#sk-container-id-4 div.sk-label label {font-family: monospace;font-weight: bold;display: inline-block;line-height: 1.2em;}#sk-container-id-4 div.sk-label-container {text-align: center;}#sk-container-id-4 div.sk-container {/* jupyter's `normalize.less` sets `[hidden] { display: none; }` but bootstrap.min.css set `[hidden] { display: none !important; }` so we also need the `!important` here to be able to override the default hidden behavior on the sphinx rendered scikit-learn.org. See: https://github.com/scikit-learn/scikit-learn/issues/21755 */display: inline-block !important;position: relative;}#sk-container-id-4 div.sk-text-repr-fallback {display: none;}</style><div id=\"sk-container-id-4\" class=\"sk-top-container\"><div class=\"sk-text-repr-fallback\"><pre>Pipeline(steps=[(&#x27;preprocessing&#x27;,\n",
              "                 ColumnTransformer(transformers=[(&#x27;num&#x27;,\n",
              "                                                  Pipeline(steps=[(&#x27;outlier&#x27;,\n",
              "                                                                   Winsorizer(capping_method=&#x27;iqr&#x27;,\n",
              "                                                                              fold=1.5,\n",
              "                                                                              tail=&#x27;both&#x27;,\n",
              "                                                                              variables=[&#x27;v3&#x27;,\n",
              "                                                                                         &#x27;v6&#x27;])),\n",
              "                                                                  (&#x27;scaler&#x27;,\n",
              "                                                                   MinMaxScaler())]),\n",
              "                                                  [&#x27;v3&#x27;, &#x27;v5&#x27;, &#x27;v6&#x27;, &#x27;v7&#x27;]),\n",
              "                                                 (&#x27;cat_ord&#x27;,\n",
              "                                                  Pipeline(steps=[(&#x27;ord_enc&#x27;,\n",
              "                                                                   OrdinalEncoder(categories=[[&#x27;lab &#x27;\n",
              "                                                                                               &#x27;1&#x27;,\n",
              "                                                                                               &#x27;lab &#x27;\n",
              "                                                                                               &#x27;2&#x27;]]))]),\n",
              "                                                  [&#x27;sample_type&#x27;])],\n",
              "                                   verbose=True)),\n",
              "                (&#x27;regression&#x27;, SVR())])</pre><b>In a Jupyter environment, please rerun this cell to show the HTML representation or trust the notebook. <br />On GitHub, the HTML representation is unable to render, please try loading this page with nbviewer.org.</b></div><div class=\"sk-container\" hidden><div class=\"sk-item sk-dashed-wrapped\"><div class=\"sk-label-container\"><div class=\"sk-label sk-toggleable\"><input class=\"sk-toggleable__control sk-hidden--visually\" id=\"sk-estimator-id-16\" type=\"checkbox\" ><label for=\"sk-estimator-id-16\" class=\"sk-toggleable__label sk-toggleable__label-arrow\">Pipeline</label><div class=\"sk-toggleable__content\"><pre>Pipeline(steps=[(&#x27;preprocessing&#x27;,\n",
              "                 ColumnTransformer(transformers=[(&#x27;num&#x27;,\n",
              "                                                  Pipeline(steps=[(&#x27;outlier&#x27;,\n",
              "                                                                   Winsorizer(capping_method=&#x27;iqr&#x27;,\n",
              "                                                                              fold=1.5,\n",
              "                                                                              tail=&#x27;both&#x27;,\n",
              "                                                                              variables=[&#x27;v3&#x27;,\n",
              "                                                                                         &#x27;v6&#x27;])),\n",
              "                                                                  (&#x27;scaler&#x27;,\n",
              "                                                                   MinMaxScaler())]),\n",
              "                                                  [&#x27;v3&#x27;, &#x27;v5&#x27;, &#x27;v6&#x27;, &#x27;v7&#x27;]),\n",
              "                                                 (&#x27;cat_ord&#x27;,\n",
              "                                                  Pipeline(steps=[(&#x27;ord_enc&#x27;,\n",
              "                                                                   OrdinalEncoder(categories=[[&#x27;lab &#x27;\n",
              "                                                                                               &#x27;1&#x27;,\n",
              "                                                                                               &#x27;lab &#x27;\n",
              "                                                                                               &#x27;2&#x27;]]))]),\n",
              "                                                  [&#x27;sample_type&#x27;])],\n",
              "                                   verbose=True)),\n",
              "                (&#x27;regression&#x27;, SVR())])</pre></div></div></div><div class=\"sk-serial\"><div class=\"sk-item sk-dashed-wrapped\"><div class=\"sk-label-container\"><div class=\"sk-label sk-toggleable\"><input class=\"sk-toggleable__control sk-hidden--visually\" id=\"sk-estimator-id-17\" type=\"checkbox\" ><label for=\"sk-estimator-id-17\" class=\"sk-toggleable__label sk-toggleable__label-arrow\">preprocessing: ColumnTransformer</label><div class=\"sk-toggleable__content\"><pre>ColumnTransformer(transformers=[(&#x27;num&#x27;,\n",
              "                                 Pipeline(steps=[(&#x27;outlier&#x27;,\n",
              "                                                  Winsorizer(capping_method=&#x27;iqr&#x27;,\n",
              "                                                             fold=1.5,\n",
              "                                                             tail=&#x27;both&#x27;,\n",
              "                                                             variables=[&#x27;v3&#x27;,\n",
              "                                                                        &#x27;v6&#x27;])),\n",
              "                                                 (&#x27;scaler&#x27;, MinMaxScaler())]),\n",
              "                                 [&#x27;v3&#x27;, &#x27;v5&#x27;, &#x27;v6&#x27;, &#x27;v7&#x27;]),\n",
              "                                (&#x27;cat_ord&#x27;,\n",
              "                                 Pipeline(steps=[(&#x27;ord_enc&#x27;,\n",
              "                                                  OrdinalEncoder(categories=[[&#x27;lab &#x27;\n",
              "                                                                              &#x27;1&#x27;,\n",
              "                                                                              &#x27;lab &#x27;\n",
              "                                                                              &#x27;2&#x27;]]))]),\n",
              "                                 [&#x27;sample_type&#x27;])],\n",
              "                  verbose=True)</pre></div></div></div><div class=\"sk-parallel\"><div class=\"sk-parallel-item\"><div class=\"sk-item\"><div class=\"sk-label-container\"><div class=\"sk-label sk-toggleable\"><input class=\"sk-toggleable__control sk-hidden--visually\" id=\"sk-estimator-id-18\" type=\"checkbox\" ><label for=\"sk-estimator-id-18\" class=\"sk-toggleable__label sk-toggleable__label-arrow\">num</label><div class=\"sk-toggleable__content\"><pre>[&#x27;v3&#x27;, &#x27;v5&#x27;, &#x27;v6&#x27;, &#x27;v7&#x27;]</pre></div></div></div><div class=\"sk-serial\"><div class=\"sk-item\"><div class=\"sk-serial\"><div class=\"sk-item\"><div class=\"sk-estimator sk-toggleable\"><input class=\"sk-toggleable__control sk-hidden--visually\" id=\"sk-estimator-id-19\" type=\"checkbox\" ><label for=\"sk-estimator-id-19\" class=\"sk-toggleable__label sk-toggleable__label-arrow\">Winsorizer</label><div class=\"sk-toggleable__content\"><pre>Winsorizer(capping_method=&#x27;iqr&#x27;, fold=1.5, tail=&#x27;both&#x27;, variables=[&#x27;v3&#x27;, &#x27;v6&#x27;])</pre></div></div></div><div class=\"sk-item\"><div class=\"sk-estimator sk-toggleable\"><input class=\"sk-toggleable__control sk-hidden--visually\" id=\"sk-estimator-id-20\" type=\"checkbox\" ><label for=\"sk-estimator-id-20\" class=\"sk-toggleable__label sk-toggleable__label-arrow\">MinMaxScaler</label><div class=\"sk-toggleable__content\"><pre>MinMaxScaler()</pre></div></div></div></div></div></div></div></div><div class=\"sk-parallel-item\"><div class=\"sk-item\"><div class=\"sk-label-container\"><div class=\"sk-label sk-toggleable\"><input class=\"sk-toggleable__control sk-hidden--visually\" id=\"sk-estimator-id-21\" type=\"checkbox\" ><label for=\"sk-estimator-id-21\" class=\"sk-toggleable__label sk-toggleable__label-arrow\">cat_ord</label><div class=\"sk-toggleable__content\"><pre>[&#x27;sample_type&#x27;]</pre></div></div></div><div class=\"sk-serial\"><div class=\"sk-item\"><div class=\"sk-serial\"><div class=\"sk-item\"><div class=\"sk-estimator sk-toggleable\"><input class=\"sk-toggleable__control sk-hidden--visually\" id=\"sk-estimator-id-22\" type=\"checkbox\" ><label for=\"sk-estimator-id-22\" class=\"sk-toggleable__label sk-toggleable__label-arrow\">OrdinalEncoder</label><div class=\"sk-toggleable__content\"><pre>OrdinalEncoder(categories=[[&#x27;lab 1&#x27;, &#x27;lab 2&#x27;]])</pre></div></div></div></div></div></div></div></div></div></div><div class=\"sk-item\"><div class=\"sk-estimator sk-toggleable\"><input class=\"sk-toggleable__control sk-hidden--visually\" id=\"sk-estimator-id-23\" type=\"checkbox\" ><label for=\"sk-estimator-id-23\" class=\"sk-toggleable__label sk-toggleable__label-arrow\">SVR</label><div class=\"sk-toggleable__content\"><pre>SVR()</pre></div></div></div></div></div></div></div>"
            ],
            "text/plain": [
              "Pipeline(steps=[('preprocessing',\n",
              "                 ColumnTransformer(transformers=[('num',\n",
              "                                                  Pipeline(steps=[('outlier',\n",
              "                                                                   Winsorizer(capping_method='iqr',\n",
              "                                                                              fold=1.5,\n",
              "                                                                              tail='both',\n",
              "                                                                              variables=['v3',\n",
              "                                                                                         'v6'])),\n",
              "                                                                  ('scaler',\n",
              "                                                                   MinMaxScaler())]),\n",
              "                                                  ['v3', 'v5', 'v6', 'v7']),\n",
              "                                                 ('cat_ord',\n",
              "                                                  Pipeline(steps=[('ord_enc',\n",
              "                                                                   OrdinalEncoder(categories=[['lab '\n",
              "                                                                                               '1',\n",
              "                                                                                               'lab '\n",
              "                                                                                               '2']]))]),\n",
              "                                                  ['sample_type'])],\n",
              "                                   verbose=True)),\n",
              "                ('regression', SVR())])"
            ]
          },
          "execution_count": 58,
          "metadata": {},
          "output_type": "execute_result"
        }
      ],
      "source": [
        "all_process.fit(x_train, y_train)"
      ]
    },
    {
      "cell_type": "code",
      "execution_count": 59,
      "metadata": {
        "id": "BmjmpNzs1ghB"
      },
      "outputs": [],
      "source": [
        "test = all_process.predict(x_test)"
      ]
    },
    {
      "cell_type": "code",
      "execution_count": 60,
      "metadata": {
        "id": "j5HNtw_W2tMD"
      },
      "outputs": [],
      "source": [
        "train = all_process.predict(x_train)"
      ]
    },
    {
      "cell_type": "code",
      "execution_count": 61,
      "metadata": {
        "colab": {
          "base_uri": "https://localhost:8080/"
        },
        "id": "E8m6QDJo2aMN",
        "outputId": "a1fd41a1-a032-442f-9516-673c7d3e57d9"
      },
      "outputs": [
        {
          "name": "stdout",
          "output_type": "stream",
          "text": [
            "train:  0.13079347017947057\n",
            "test:  0.2384335600397305\n"
          ]
        }
      ],
      "source": [
        "print('train: ', mean_absolute_error(y_train, train))\n",
        "print('test: ', mean_absolute_error(y_test, test))"
      ]
    },
    {
      "cell_type": "code",
      "execution_count": 69,
      "metadata": {},
      "outputs": [
        {
          "name": "stdout",
          "output_type": "stream",
          "text": [
            "MAE:  0.2384335600397305\n",
            "RMSE:  0.2990864357677822\n",
            "MAPE: 0.05389672080891075\n"
          ]
        }
      ],
      "source": [
        "print('MAE: ', mean_absolute_error(y_test, test))\n",
        "print('RMSE: ', np.sqrt(mean_squared_error(y_test, test)))\n",
        "print('MAPE:', mean_absolute_percentage_error(y_test, test))\n"
      ]
    },
    {
      "attachments": {},
      "cell_type": "markdown",
      "metadata": {},
      "source": [
        "The MAE and RMSE result is still lower which is 0.2 . The MAPE result show that the error result is 5.3 %, Which means the accuracy of prediction is 94.7 %. Overall SVR is prety good in result. We would like to use this model into inference."
      ]
    },
    {
      "cell_type": "markdown",
      "metadata": {
        "id": "T5lRrbzT4LiO"
      },
      "source": [
        "### Inference"
      ]
    },
    {
      "cell_type": "code",
      "execution_count": 62,
      "metadata": {
        "colab": {
          "base_uri": "https://localhost:8080/",
          "height": 519
        },
        "id": "RPb_0EiR4NSC",
        "outputId": "229f0e6e-cce2-454b-93ab-6db01c4963f7"
      },
      "outputs": [
        {
          "data": {
            "text/html": [
              "<div>\n",
              "<style scoped>\n",
              "    .dataframe tbody tr th:only-of-type {\n",
              "        vertical-align: middle;\n",
              "    }\n",
              "\n",
              "    .dataframe tbody tr th {\n",
              "        vertical-align: top;\n",
              "    }\n",
              "\n",
              "    .dataframe thead th {\n",
              "        text-align: right;\n",
              "    }\n",
              "</style>\n",
              "<table border=\"1\" class=\"dataframe\">\n",
              "  <thead>\n",
              "    <tr style=\"text-align: right;\">\n",
              "      <th></th>\n",
              "      <th>target</th>\n",
              "      <th>v1</th>\n",
              "      <th>v2</th>\n",
              "      <th>v3</th>\n",
              "      <th>v4</th>\n",
              "      <th>v5</th>\n",
              "      <th>v6</th>\n",
              "      <th>v7</th>\n",
              "      <th>v8</th>\n",
              "      <th>sample_type</th>\n",
              "    </tr>\n",
              "  </thead>\n",
              "  <tbody>\n",
              "    <tr>\n",
              "      <th>0</th>\n",
              "      <td>4.35</td>\n",
              "      <td>615.312500</td>\n",
              "      <td>366.750000</td>\n",
              "      <td>642.937500</td>\n",
              "      <td>483.687500</td>\n",
              "      <td>675.625000</td>\n",
              "      <td>359.062500</td>\n",
              "      <td>730.125000</td>\n",
              "      <td>3859.062500</td>\n",
              "      <td>lab 2</td>\n",
              "    </tr>\n",
              "    <tr>\n",
              "      <th>1</th>\n",
              "      <td>4.67</td>\n",
              "      <td>256.000000</td>\n",
              "      <td>201.375000</td>\n",
              "      <td>393.937500</td>\n",
              "      <td>361.875000</td>\n",
              "      <td>421.687500</td>\n",
              "      <td>223.875000</td>\n",
              "      <td>726.687500</td>\n",
              "      <td>4589.062500</td>\n",
              "      <td>lab 1</td>\n",
              "    </tr>\n",
              "    <tr>\n",
              "      <th>2</th>\n",
              "      <td>4.62</td>\n",
              "      <td>269.937500</td>\n",
              "      <td>200.875000</td>\n",
              "      <td>414.125000</td>\n",
              "      <td>384.812500</td>\n",
              "      <td>449.500000</td>\n",
              "      <td>250.062500</td>\n",
              "      <td>758.875000</td>\n",
              "      <td>4491.062500</td>\n",
              "      <td>lab 1</td>\n",
              "    </tr>\n",
              "    <tr>\n",
              "      <th>3</th>\n",
              "      <td>4.94</td>\n",
              "      <td>286.466667</td>\n",
              "      <td>197.266667</td>\n",
              "      <td>389.533333</td>\n",
              "      <td>342.266667</td>\n",
              "      <td>413.733333</td>\n",
              "      <td>195.066667</td>\n",
              "      <td>704.200000</td>\n",
              "      <td>4470.333333</td>\n",
              "      <td>lab 1</td>\n",
              "    </tr>\n",
              "    <tr>\n",
              "      <th>4</th>\n",
              "      <td>4.92</td>\n",
              "      <td>515.687500</td>\n",
              "      <td>189.375000</td>\n",
              "      <td>572.500000</td>\n",
              "      <td>355.375000</td>\n",
              "      <td>462.062500</td>\n",
              "      <td>192.687500</td>\n",
              "      <td>632.625000</td>\n",
              "      <td>4709.375000</td>\n",
              "      <td>lab 2</td>\n",
              "    </tr>\n",
              "    <tr>\n",
              "      <th>5</th>\n",
              "      <td>4.89</td>\n",
              "      <td>266.375000</td>\n",
              "      <td>186.625000</td>\n",
              "      <td>389.312500</td>\n",
              "      <td>381.625000</td>\n",
              "      <td>425.937500</td>\n",
              "      <td>222.562500</td>\n",
              "      <td>754.562500</td>\n",
              "      <td>4806.625000</td>\n",
              "      <td>lab 1</td>\n",
              "    </tr>\n",
              "    <tr>\n",
              "      <th>6</th>\n",
              "      <td>4.89</td>\n",
              "      <td>663.375000</td>\n",
              "      <td>422.812500</td>\n",
              "      <td>722.312500</td>\n",
              "      <td>541.750000</td>\n",
              "      <td>721.000000</td>\n",
              "      <td>415.375000</td>\n",
              "      <td>738.125000</td>\n",
              "      <td>3836.812500</td>\n",
              "      <td>lab 2</td>\n",
              "    </tr>\n",
              "    <tr>\n",
              "      <th>7</th>\n",
              "      <td>4.84</td>\n",
              "      <td>601.312500</td>\n",
              "      <td>369.687500</td>\n",
              "      <td>662.750000</td>\n",
              "      <td>482.812500</td>\n",
              "      <td>663.687500</td>\n",
              "      <td>355.625000</td>\n",
              "      <td>706.375000</td>\n",
              "      <td>3873.000000</td>\n",
              "      <td>lab 2</td>\n",
              "    </tr>\n",
              "    <tr>\n",
              "      <th>8</th>\n",
              "      <td>5.00</td>\n",
              "      <td>521.187500</td>\n",
              "      <td>202.437500</td>\n",
              "      <td>577.562500</td>\n",
              "      <td>369.125000</td>\n",
              "      <td>479.375000</td>\n",
              "      <td>197.500000</td>\n",
              "      <td>655.062500</td>\n",
              "      <td>4601.187500</td>\n",
              "      <td>lab 2</td>\n",
              "    </tr>\n",
              "    <tr>\n",
              "      <th>9</th>\n",
              "      <td>4.66</td>\n",
              "      <td>251.812500</td>\n",
              "      <td>182.625000</td>\n",
              "      <td>355.562500</td>\n",
              "      <td>332.500000</td>\n",
              "      <td>382.562500</td>\n",
              "      <td>200.187500</td>\n",
              "      <td>659.687500</td>\n",
              "      <td>4189.625000</td>\n",
              "      <td>lab 1</td>\n",
              "    </tr>\n",
              "    <tr>\n",
              "      <th>10</th>\n",
              "      <td>4.72</td>\n",
              "      <td>268.266667</td>\n",
              "      <td>178.800000</td>\n",
              "      <td>370.000000</td>\n",
              "      <td>342.466667</td>\n",
              "      <td>384.533333</td>\n",
              "      <td>204.733333</td>\n",
              "      <td>690.333333</td>\n",
              "      <td>4255.200000</td>\n",
              "      <td>lab 1</td>\n",
              "    </tr>\n",
              "    <tr>\n",
              "      <th>11</th>\n",
              "      <td>4.68</td>\n",
              "      <td>298.125000</td>\n",
              "      <td>189.312500</td>\n",
              "      <td>382.687500</td>\n",
              "      <td>363.500000</td>\n",
              "      <td>419.437500</td>\n",
              "      <td>219.000000</td>\n",
              "      <td>694.375000</td>\n",
              "      <td>4801.187500</td>\n",
              "      <td>lab 1</td>\n",
              "    </tr>\n",
              "    <tr>\n",
              "      <th>12</th>\n",
              "      <td>4.45</td>\n",
              "      <td>290.733333</td>\n",
              "      <td>211.400000</td>\n",
              "      <td>386.400000</td>\n",
              "      <td>361.600000</td>\n",
              "      <td>421.666667</td>\n",
              "      <td>236.333333</td>\n",
              "      <td>725.000000</td>\n",
              "      <td>4557.866667</td>\n",
              "      <td>lab 1</td>\n",
              "    </tr>\n",
              "    <tr>\n",
              "      <th>13</th>\n",
              "      <td>5.00</td>\n",
              "      <td>505.866667</td>\n",
              "      <td>184.266667</td>\n",
              "      <td>547.866667</td>\n",
              "      <td>337.933333</td>\n",
              "      <td>460.666667</td>\n",
              "      <td>196.333333</td>\n",
              "      <td>596.400000</td>\n",
              "      <td>4430.066667</td>\n",
              "      <td>lab 2</td>\n",
              "    </tr>\n",
              "    <tr>\n",
              "      <th>14</th>\n",
              "      <td>4.94</td>\n",
              "      <td>270.000000</td>\n",
              "      <td>184.187500</td>\n",
              "      <td>356.125000</td>\n",
              "      <td>330.375000</td>\n",
              "      <td>399.937500</td>\n",
              "      <td>219.062500</td>\n",
              "      <td>679.750000</td>\n",
              "      <td>3961.625000</td>\n",
              "      <td>lab 1</td>\n",
              "    </tr>\n",
              "  </tbody>\n",
              "</table>\n",
              "</div>"
            ],
            "text/plain": [
              "    target          v1          v2          v3          v4          v5  \\\n",
              "0     4.35  615.312500  366.750000  642.937500  483.687500  675.625000   \n",
              "1     4.67  256.000000  201.375000  393.937500  361.875000  421.687500   \n",
              "2     4.62  269.937500  200.875000  414.125000  384.812500  449.500000   \n",
              "3     4.94  286.466667  197.266667  389.533333  342.266667  413.733333   \n",
              "4     4.92  515.687500  189.375000  572.500000  355.375000  462.062500   \n",
              "5     4.89  266.375000  186.625000  389.312500  381.625000  425.937500   \n",
              "6     4.89  663.375000  422.812500  722.312500  541.750000  721.000000   \n",
              "7     4.84  601.312500  369.687500  662.750000  482.812500  663.687500   \n",
              "8     5.00  521.187500  202.437500  577.562500  369.125000  479.375000   \n",
              "9     4.66  251.812500  182.625000  355.562500  332.500000  382.562500   \n",
              "10    4.72  268.266667  178.800000  370.000000  342.466667  384.533333   \n",
              "11    4.68  298.125000  189.312500  382.687500  363.500000  419.437500   \n",
              "12    4.45  290.733333  211.400000  386.400000  361.600000  421.666667   \n",
              "13    5.00  505.866667  184.266667  547.866667  337.933333  460.666667   \n",
              "14    4.94  270.000000  184.187500  356.125000  330.375000  399.937500   \n",
              "\n",
              "            v6          v7           v8 sample_type  \n",
              "0   359.062500  730.125000  3859.062500       lab 2  \n",
              "1   223.875000  726.687500  4589.062500       lab 1  \n",
              "2   250.062500  758.875000  4491.062500       lab 1  \n",
              "3   195.066667  704.200000  4470.333333       lab 1  \n",
              "4   192.687500  632.625000  4709.375000       lab 2  \n",
              "5   222.562500  754.562500  4806.625000       lab 1  \n",
              "6   415.375000  738.125000  3836.812500       lab 2  \n",
              "7   355.625000  706.375000  3873.000000       lab 2  \n",
              "8   197.500000  655.062500  4601.187500       lab 2  \n",
              "9   200.187500  659.687500  4189.625000       lab 1  \n",
              "10  204.733333  690.333333  4255.200000       lab 1  \n",
              "11  219.000000  694.375000  4801.187500       lab 1  \n",
              "12  236.333333  725.000000  4557.866667       lab 1  \n",
              "13  196.333333  596.400000  4430.066667       lab 2  \n",
              "14  219.062500  679.750000  3961.625000       lab 1  "
            ]
          },
          "execution_count": 62,
          "metadata": {},
          "output_type": "execute_result"
        }
      ],
      "source": [
        "data_inf"
      ]
    },
    {
      "cell_type": "code",
      "execution_count": 63,
      "metadata": {
        "id": "0ShOys-y4R2O"
      },
      "outputs": [],
      "source": [
        "X_inf = data_inf.drop('target',axis=1).copy()"
      ]
    },
    {
      "cell_type": "code",
      "execution_count": 64,
      "metadata": {
        "colab": {
          "base_uri": "https://localhost:8080/"
        },
        "id": "duvsrDWS3JM2",
        "outputId": "16779752-8dec-4190-bfe4-d8c0ebde22f2"
      },
      "outputs": [
        {
          "data": {
            "text/plain": [
              "array([4.78753538, 4.68532761, 4.64972358, 4.85736504, 4.92410659,\n",
              "       4.65697626, 4.79536718, 4.78618118, 4.91628507, 4.83876855,\n",
              "       4.81127566, 4.7529628 , 4.60818084, 4.86915964, 4.7508543 ])"
            ]
          },
          "execution_count": 64,
          "metadata": {},
          "output_type": "execute_result"
        }
      ],
      "source": [
        "hasil = all_process.predict(X_inf)\n",
        "hasil"
      ]
    },
    {
      "cell_type": "code",
      "execution_count": 65,
      "metadata": {
        "colab": {
          "base_uri": "https://localhost:8080/",
          "height": 206
        },
        "id": "X5yRZqQY4bES",
        "outputId": "c377d2e6-a807-4380-d5ab-0c682534c686"
      },
      "outputs": [
        {
          "data": {
            "text/html": [
              "<div>\n",
              "<style scoped>\n",
              "    .dataframe tbody tr th:only-of-type {\n",
              "        vertical-align: middle;\n",
              "    }\n",
              "\n",
              "    .dataframe tbody tr th {\n",
              "        vertical-align: top;\n",
              "    }\n",
              "\n",
              "    .dataframe thead th {\n",
              "        text-align: right;\n",
              "    }\n",
              "</style>\n",
              "<table border=\"1\" class=\"dataframe\">\n",
              "  <thead>\n",
              "    <tr style=\"text-align: right;\">\n",
              "      <th></th>\n",
              "      <th>hasil prediksi</th>\n",
              "    </tr>\n",
              "  </thead>\n",
              "  <tbody>\n",
              "    <tr>\n",
              "      <th>0</th>\n",
              "      <td>4.787535</td>\n",
              "    </tr>\n",
              "    <tr>\n",
              "      <th>1</th>\n",
              "      <td>4.685328</td>\n",
              "    </tr>\n",
              "    <tr>\n",
              "      <th>2</th>\n",
              "      <td>4.649724</td>\n",
              "    </tr>\n",
              "    <tr>\n",
              "      <th>3</th>\n",
              "      <td>4.857365</td>\n",
              "    </tr>\n",
              "    <tr>\n",
              "      <th>4</th>\n",
              "      <td>4.924107</td>\n",
              "    </tr>\n",
              "  </tbody>\n",
              "</table>\n",
              "</div>"
            ],
            "text/plain": [
              "   hasil prediksi\n",
              "0        4.787535\n",
              "1        4.685328\n",
              "2        4.649724\n",
              "3        4.857365\n",
              "4        4.924107"
            ]
          },
          "execution_count": 65,
          "metadata": {},
          "output_type": "execute_result"
        }
      ],
      "source": [
        "hasil_inf = pd.DataFrame(hasil, columns=['hasil prediksi'])\n",
        "hasil_inf.head()"
      ]
    },
    {
      "cell_type": "code",
      "execution_count": 66,
      "metadata": {
        "colab": {
          "base_uri": "https://localhost:8080/",
          "height": 519
        },
        "id": "gV-sH82v4hRw",
        "outputId": "a124a1a0-f644-4836-e238-5c2fe15d353c"
      },
      "outputs": [
        {
          "data": {
            "text/html": [
              "<div>\n",
              "<style scoped>\n",
              "    .dataframe tbody tr th:only-of-type {\n",
              "        vertical-align: middle;\n",
              "    }\n",
              "\n",
              "    .dataframe tbody tr th {\n",
              "        vertical-align: top;\n",
              "    }\n",
              "\n",
              "    .dataframe thead th {\n",
              "        text-align: right;\n",
              "    }\n",
              "</style>\n",
              "<table border=\"1\" class=\"dataframe\">\n",
              "  <thead>\n",
              "    <tr style=\"text-align: right;\">\n",
              "      <th></th>\n",
              "      <th>hasil prediksi</th>\n",
              "      <th>Real Data</th>\n",
              "    </tr>\n",
              "  </thead>\n",
              "  <tbody>\n",
              "    <tr>\n",
              "      <th>0</th>\n",
              "      <td>4.787535</td>\n",
              "      <td>4.35</td>\n",
              "    </tr>\n",
              "    <tr>\n",
              "      <th>1</th>\n",
              "      <td>4.685328</td>\n",
              "      <td>4.67</td>\n",
              "    </tr>\n",
              "    <tr>\n",
              "      <th>2</th>\n",
              "      <td>4.649724</td>\n",
              "      <td>4.62</td>\n",
              "    </tr>\n",
              "    <tr>\n",
              "      <th>3</th>\n",
              "      <td>4.857365</td>\n",
              "      <td>4.94</td>\n",
              "    </tr>\n",
              "    <tr>\n",
              "      <th>4</th>\n",
              "      <td>4.924107</td>\n",
              "      <td>4.92</td>\n",
              "    </tr>\n",
              "    <tr>\n",
              "      <th>5</th>\n",
              "      <td>4.656976</td>\n",
              "      <td>4.89</td>\n",
              "    </tr>\n",
              "    <tr>\n",
              "      <th>6</th>\n",
              "      <td>4.795367</td>\n",
              "      <td>4.89</td>\n",
              "    </tr>\n",
              "    <tr>\n",
              "      <th>7</th>\n",
              "      <td>4.786181</td>\n",
              "      <td>4.84</td>\n",
              "    </tr>\n",
              "    <tr>\n",
              "      <th>8</th>\n",
              "      <td>4.916285</td>\n",
              "      <td>5.00</td>\n",
              "    </tr>\n",
              "    <tr>\n",
              "      <th>9</th>\n",
              "      <td>4.838769</td>\n",
              "      <td>4.66</td>\n",
              "    </tr>\n",
              "    <tr>\n",
              "      <th>10</th>\n",
              "      <td>4.811276</td>\n",
              "      <td>4.72</td>\n",
              "    </tr>\n",
              "    <tr>\n",
              "      <th>11</th>\n",
              "      <td>4.752963</td>\n",
              "      <td>4.68</td>\n",
              "    </tr>\n",
              "    <tr>\n",
              "      <th>12</th>\n",
              "      <td>4.608181</td>\n",
              "      <td>4.45</td>\n",
              "    </tr>\n",
              "    <tr>\n",
              "      <th>13</th>\n",
              "      <td>4.869160</td>\n",
              "      <td>5.00</td>\n",
              "    </tr>\n",
              "    <tr>\n",
              "      <th>14</th>\n",
              "      <td>4.750854</td>\n",
              "      <td>4.94</td>\n",
              "    </tr>\n",
              "  </tbody>\n",
              "</table>\n",
              "</div>"
            ],
            "text/plain": [
              "    hasil prediksi  Real Data\n",
              "0         4.787535       4.35\n",
              "1         4.685328       4.67\n",
              "2         4.649724       4.62\n",
              "3         4.857365       4.94\n",
              "4         4.924107       4.92\n",
              "5         4.656976       4.89\n",
              "6         4.795367       4.89\n",
              "7         4.786181       4.84\n",
              "8         4.916285       5.00\n",
              "9         4.838769       4.66\n",
              "10        4.811276       4.72\n",
              "11        4.752963       4.68\n",
              "12        4.608181       4.45\n",
              "13        4.869160       5.00\n",
              "14        4.750854       4.94"
            ]
          },
          "execution_count": 66,
          "metadata": {},
          "output_type": "execute_result"
        }
      ],
      "source": [
        "hasil_inf['Real Data'] = data_inf['target']\n",
        "hasil_inf"
      ]
    },
    {
      "cell_type": "code",
      "execution_count": 67,
      "metadata": {
        "id": "sukg2DMM4wEB"
      },
      "outputs": [],
      "source": [
        "pickle.dump(all_process, open('pipeline.pkl','wb'))"
      ]
    },
    {
      "attachments": {},
      "cell_type": "markdown",
      "metadata": {},
      "source": [
        "# Conclusion"
      ]
    },
    {
      "attachments": {},
      "cell_type": "markdown",
      "metadata": {},
      "source": [
        "- The Regression model work quite good in predict the target, I compare results from all algorithms which is linear regression, decision tree regressor, random forest regressor and SVR and get different results. The SVR algorithm gives better results than the all algorithms in this cases. \n",
        "- The MAPE result show that the error result 5.3% Which means the accuracy of prediction is 94.7 %\n",
        "- The SVR model is robust to outliers. Decision model can be easily updated. It has excellent generalization capability, with high prediction accuracy.\n",
        "- The limitation of this algorithm is They are not suitable for large datasets. In cases where the number of features for each data point exceeds the number of training data samples, the SVR will underperform.\n",
        "- For the future improvement,  try to use another model and improve the parameters, choosing feature selection more deeper and minimize the error."
      ]
    }
  ],
  "metadata": {
    "colab": {
      "provenance": [],
      "toc_visible": true
    },
    "gpuClass": "standard",
    "kernelspec": {
      "display_name": "base",
      "language": "python",
      "name": "python3"
    },
    "language_info": {
      "codemirror_mode": {
        "name": "ipython",
        "version": 3
      },
      "file_extension": ".py",
      "mimetype": "text/x-python",
      "name": "python",
      "nbconvert_exporter": "python",
      "pygments_lexer": "ipython3",
      "version": "3.9.12 (main, Apr  4 2022, 05:22:27) [MSC v.1916 64 bit (AMD64)]"
    },
    "vscode": {
      "interpreter": {
        "hash": "a71a9e4fb054fff428071484f7faa898cb9ecb31a518fe88e3463da9af879578"
      }
    }
  },
  "nbformat": 4,
  "nbformat_minor": 0
}
